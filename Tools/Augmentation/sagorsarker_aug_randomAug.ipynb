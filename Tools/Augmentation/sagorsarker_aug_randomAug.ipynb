{
  "cells": [
    {
      "cell_type": "markdown",
      "source": [
        "##Pips"
      ],
      "metadata": {
        "id": "n86ZJU_naSDr"
      }
    },
    {
      "cell_type": "code",
      "source": [
        "import torch\n",
        "\n",
        "# If there's a GPU available...\n",
        "if torch.cuda.is_available():    \n",
        "\n",
        "    # Tell PyTorch to use the GPU.    \n",
        "    device = torch.device(\"cuda\")\n",
        "\n",
        "    print('There are %d GPU(s) available.' % torch.cuda.device_count())\n",
        "\n",
        "    print('We will use the GPU:', torch.cuda.get_device_name(0))\n",
        "\n",
        "# If not...\n",
        "else:\n",
        "    print('No GPU available, using the CPU instead.')\n",
        "    device = torch.device(\"cpu\")"
      ],
      "metadata": {
        "colab": {
          "base_uri": "https://localhost:8080/"
        },
        "id": "TOq7B_40lDK9",
        "outputId": "eeb64c9c-f3dc-4b55-920b-78621f50d33e"
      },
      "execution_count": null,
      "outputs": [
        {
          "output_type": "stream",
          "name": "stdout",
          "text": [
            "There are 1 GPU(s) available.\n",
            "We will use the GPU: Tesla T4\n"
          ]
        }
      ]
    },
    {
      "cell_type": "code",
      "execution_count": null,
      "metadata": {
        "id": "bLXleXuvNmOV"
      },
      "outputs": [],
      "source": [
        "%%capture\n",
        "!pip install sentencepiece\n",
        "!pip install transformers"
      ]
    },
    {
      "cell_type": "code",
      "execution_count": null,
      "metadata": {
        "id": "e0Ni-8Uqswow",
        "colab": {
          "base_uri": "https://localhost:8080/"
        },
        "outputId": "3a31157e-3a59-467d-d97d-7058101276a1"
      },
      "outputs": [
        {
          "output_type": "stream",
          "name": "stdout",
          "text": [
            "Mounted at /content/drive\n"
          ]
        }
      ],
      "source": [
        "from google.colab import drive\n",
        "drive.mount('/content/drive')"
      ]
    },
    {
      "cell_type": "code",
      "source": [
        "!pip install bnaug"
      ],
      "metadata": {
        "colab": {
          "base_uri": "https://localhost:8080/"
        },
        "id": "MxwztLyHbFG8",
        "outputId": "2074395e-9565-443f-bbea-1544857cd29c"
      },
      "execution_count": null,
      "outputs": [
        {
          "output_type": "stream",
          "name": "stdout",
          "text": [
            "Looking in indexes: https://pypi.org/simple, https://us-python.pkg.dev/colab-wheels/public/simple/\n",
            "Collecting bnaug\n",
            "  Downloading bnaug-1.1.0-py3-none-any.whl (4.8 kB)\n",
            "Collecting bnlp-toolkit==3.2.0\n",
            "  Downloading bnlp_toolkit-3.2.0-py3-none-any.whl (19 kB)\n",
            "Collecting transformers==4.24.0\n",
            "  Downloading transformers-4.24.0-py3-none-any.whl (5.5 MB)\n",
            "\u001b[K     |████████████████████████████████| 5.5 MB 6.2 MB/s \n",
            "\u001b[?25hRequirement already satisfied: nltk in /usr/local/lib/python3.8/dist-packages (from bnlp-toolkit==3.2.0->bnaug) (3.7)\n",
            "Collecting gensim==4.0.1\n",
            "  Downloading gensim-4.0.1-cp38-cp38-manylinux1_x86_64.whl (23.9 MB)\n",
            "\u001b[K     |████████████████████████████████| 23.9 MB 83.3 MB/s \n",
            "\u001b[?25hRequirement already satisfied: scipy in /usr/local/lib/python3.8/dist-packages (from bnlp-toolkit==3.2.0->bnaug) (1.7.3)\n",
            "Requirement already satisfied: tqdm in /usr/local/lib/python3.8/dist-packages (from bnlp-toolkit==3.2.0->bnaug) (4.64.1)\n",
            "Requirement already satisfied: numpy in /usr/local/lib/python3.8/dist-packages (from bnlp-toolkit==3.2.0->bnaug) (1.21.6)\n",
            "Requirement already satisfied: sentencepiece in /usr/local/lib/python3.8/dist-packages (from bnlp-toolkit==3.2.0->bnaug) (0.1.97)\n",
            "Requirement already satisfied: wasabi in /usr/local/lib/python3.8/dist-packages (from bnlp-toolkit==3.2.0->bnaug) (0.10.1)\n",
            "Collecting sklearn-crfsuite\n",
            "  Downloading sklearn_crfsuite-0.3.6-py2.py3-none-any.whl (12 kB)\n",
            "Requirement already satisfied: smart-open>=1.8.1 in /usr/local/lib/python3.8/dist-packages (from gensim==4.0.1->bnlp-toolkit==3.2.0->bnaug) (6.3.0)\n",
            "Requirement already satisfied: packaging>=20.0 in /usr/local/lib/python3.8/dist-packages (from transformers==4.24.0->bnaug) (21.3)\n",
            "Requirement already satisfied: huggingface-hub<1.0,>=0.10.0 in /usr/local/lib/python3.8/dist-packages (from transformers==4.24.0->bnaug) (0.11.1)\n",
            "Requirement already satisfied: regex!=2019.12.17 in /usr/local/lib/python3.8/dist-packages (from transformers==4.24.0->bnaug) (2022.6.2)\n",
            "Requirement already satisfied: pyyaml>=5.1 in /usr/local/lib/python3.8/dist-packages (from transformers==4.24.0->bnaug) (6.0)\n",
            "Requirement already satisfied: tokenizers!=0.11.3,<0.14,>=0.11.1 in /usr/local/lib/python3.8/dist-packages (from transformers==4.24.0->bnaug) (0.13.2)\n",
            "Requirement already satisfied: requests in /usr/local/lib/python3.8/dist-packages (from transformers==4.24.0->bnaug) (2.23.0)\n",
            "Requirement already satisfied: filelock in /usr/local/lib/python3.8/dist-packages (from transformers==4.24.0->bnaug) (3.8.2)\n",
            "Requirement already satisfied: typing-extensions>=3.7.4.3 in /usr/local/lib/python3.8/dist-packages (from huggingface-hub<1.0,>=0.10.0->transformers==4.24.0->bnaug) (4.4.0)\n",
            "Requirement already satisfied: pyparsing!=3.0.5,>=2.0.2 in /usr/local/lib/python3.8/dist-packages (from packaging>=20.0->transformers==4.24.0->bnaug) (3.0.9)\n",
            "Requirement already satisfied: click in /usr/local/lib/python3.8/dist-packages (from nltk->bnlp-toolkit==3.2.0->bnaug) (7.1.2)\n",
            "Requirement already satisfied: joblib in /usr/local/lib/python3.8/dist-packages (from nltk->bnlp-toolkit==3.2.0->bnaug) (1.2.0)\n",
            "Requirement already satisfied: urllib3!=1.25.0,!=1.25.1,<1.26,>=1.21.1 in /usr/local/lib/python3.8/dist-packages (from requests->transformers==4.24.0->bnaug) (1.24.3)\n",
            "Requirement already satisfied: certifi>=2017.4.17 in /usr/local/lib/python3.8/dist-packages (from requests->transformers==4.24.0->bnaug) (2022.12.7)\n",
            "Requirement already satisfied: idna<3,>=2.5 in /usr/local/lib/python3.8/dist-packages (from requests->transformers==4.24.0->bnaug) (2.10)\n",
            "Requirement already satisfied: chardet<4,>=3.0.2 in /usr/local/lib/python3.8/dist-packages (from requests->transformers==4.24.0->bnaug) (3.0.4)\n",
            "Requirement already satisfied: tabulate in /usr/local/lib/python3.8/dist-packages (from sklearn-crfsuite->bnlp-toolkit==3.2.0->bnaug) (0.8.10)\n",
            "Collecting python-crfsuite>=0.8.3\n",
            "  Downloading python_crfsuite-0.9.8-cp38-cp38-manylinux_2_17_x86_64.manylinux2014_x86_64.whl (1.0 MB)\n",
            "\u001b[K     |████████████████████████████████| 1.0 MB 69.8 MB/s \n",
            "\u001b[?25hRequirement already satisfied: six in /usr/local/lib/python3.8/dist-packages (from sklearn-crfsuite->bnlp-toolkit==3.2.0->bnaug) (1.15.0)\n",
            "Installing collected packages: python-crfsuite, sklearn-crfsuite, gensim, transformers, bnlp-toolkit, bnaug\n",
            "  Attempting uninstall: gensim\n",
            "    Found existing installation: gensim 3.6.0\n",
            "    Uninstalling gensim-3.6.0:\n",
            "      Successfully uninstalled gensim-3.6.0\n",
            "  Attempting uninstall: transformers\n",
            "    Found existing installation: transformers 4.25.1\n",
            "    Uninstalling transformers-4.25.1:\n",
            "      Successfully uninstalled transformers-4.25.1\n",
            "Successfully installed bnaug-1.1.0 bnlp-toolkit-3.2.0 gensim-4.0.1 python-crfsuite-0.9.8 sklearn-crfsuite-0.3.6 transformers-4.24.0\n"
          ]
        }
      ]
    },
    {
      "cell_type": "code",
      "source": [
        "!wget https://huggingface.co/sagorsarker/bangla_word2vec/resolve/main/bangla_word2vec_gen4.zip\n",
        "!wget https://huggingface.co/sagorsarker/bangla-glove-vectors/resolve/main/bn_glove.300d.zip\n",
        "\n",
        "!unzip bangla_word2vec_gen4.zip\n",
        "!unzip bn_glove.300d.zip\n",
        "\n",
        "!rm -rf bangla_word2vec_gen4.zip\n",
        "!rm -rf bn_glove.300d.zip"
      ],
      "metadata": {
        "colab": {
          "base_uri": "https://localhost:8080/"
        },
        "id": "FFlT7haCeBmD",
        "outputId": "128cbe6c-744e-418c-b3af-074609ba37ba"
      },
      "execution_count": null,
      "outputs": [
        {
          "output_type": "stream",
          "name": "stdout",
          "text": [
            "--2023-01-02 16:04:54--  https://huggingface.co/sagorsarker/bangla_word2vec/resolve/main/bangla_word2vec_gen4.zip\n",
            "Resolving huggingface.co (huggingface.co)... 18.235.116.140, 54.144.222.129, 2600:1f18:147f:e800:8e23:1296:56ee:cadc, ...\n",
            "Connecting to huggingface.co (huggingface.co)|18.235.116.140|:443... connected.\n",
            "HTTP request sent, awaiting response... 302 Found\n",
            "Location: https://cdn-lfs.huggingface.co/repos/f5/12/f51294acf565f8e7f2b231a61a327e6a79fce680615e3bbbc4850f166e928650/b157fe019ddda848f0195240f636ff2dcb63cbe823c84eed77c129e196105fd1?response-content-disposition=attachment%3B%20filename%3D%22bangla_word2vec_gen4.zip%22&Expires=1672934694&Policy=eyJTdGF0ZW1lbnQiOlt7IlJlc291cmNlIjoiaHR0cHM6Ly9jZG4tbGZzLmh1Z2dpbmdmYWNlLmNvL3JlcG9zL2Y1LzEyL2Y1MTI5NGFjZjU2NWY4ZTdmMmIyMzFhNjFhMzI3ZTZhNzlmY2U2ODA2MTVlM2JiYmM0ODUwZjE2NmU5Mjg2NTAvYjE1N2ZlMDE5ZGRkYTg0OGYwMTk1MjQwZjYzNmZmMmRjYjYzY2JlODIzYzg0ZWVkNzdjMTI5ZTE5NjEwNWZkMT9yZXNwb25zZS1jb250ZW50LWRpc3Bvc2l0aW9uPWF0dGFjaG1lbnQlM0IlMjBmaWxlbmFtZSUzRCUyMmJhbmdsYV93b3JkMnZlY19nZW40LnppcCUyMiIsIkNvbmRpdGlvbiI6eyJEYXRlTGVzc1RoYW4iOnsiQVdTOkVwb2NoVGltZSI6MTY3MjkzNDY5NH19fV19&Signature=lWVSaOg~pSkC9u71bktsoGzGB9wk2xxPPxUd89~PLPlwB3lPDEWf50oMzEXHDFGt1LSLPJXx-YYZb2wRkqjfU2nnWSk9SclYhiDsXQy06rccZZynyKF0K5DqjsqNcdO4nyMQGDKxqrG0tr7YtiIE1sEnNla4dAWepkeMwa4dO0lvzWTf0295gWGQuifUEAcggtuR38XNzVb7Qb0LhTfHeBCqHGdRcGRx4F4WwgJ0C3sVyP4HdZ5vaYVpIyiqF6tia8Nvg4OWHfcu8VM~pr4ldC08FH-k3m3~E96AAHF3Gy1ntHVNLDZrfyHsw1UEHt8ZU-mDGkQ5a-eTL6vkdI~Ibw__&Key-Pair-Id=KVTP0A1DKRTAX [following]\n",
            "--2023-01-02 16:04:54--  https://cdn-lfs.huggingface.co/repos/f5/12/f51294acf565f8e7f2b231a61a327e6a79fce680615e3bbbc4850f166e928650/b157fe019ddda848f0195240f636ff2dcb63cbe823c84eed77c129e196105fd1?response-content-disposition=attachment%3B%20filename%3D%22bangla_word2vec_gen4.zip%22&Expires=1672934694&Policy=eyJTdGF0ZW1lbnQiOlt7IlJlc291cmNlIjoiaHR0cHM6Ly9jZG4tbGZzLmh1Z2dpbmdmYWNlLmNvL3JlcG9zL2Y1LzEyL2Y1MTI5NGFjZjU2NWY4ZTdmMmIyMzFhNjFhMzI3ZTZhNzlmY2U2ODA2MTVlM2JiYmM0ODUwZjE2NmU5Mjg2NTAvYjE1N2ZlMDE5ZGRkYTg0OGYwMTk1MjQwZjYzNmZmMmRjYjYzY2JlODIzYzg0ZWVkNzdjMTI5ZTE5NjEwNWZkMT9yZXNwb25zZS1jb250ZW50LWRpc3Bvc2l0aW9uPWF0dGFjaG1lbnQlM0IlMjBmaWxlbmFtZSUzRCUyMmJhbmdsYV93b3JkMnZlY19nZW40LnppcCUyMiIsIkNvbmRpdGlvbiI6eyJEYXRlTGVzc1RoYW4iOnsiQVdTOkVwb2NoVGltZSI6MTY3MjkzNDY5NH19fV19&Signature=lWVSaOg~pSkC9u71bktsoGzGB9wk2xxPPxUd89~PLPlwB3lPDEWf50oMzEXHDFGt1LSLPJXx-YYZb2wRkqjfU2nnWSk9SclYhiDsXQy06rccZZynyKF0K5DqjsqNcdO4nyMQGDKxqrG0tr7YtiIE1sEnNla4dAWepkeMwa4dO0lvzWTf0295gWGQuifUEAcggtuR38XNzVb7Qb0LhTfHeBCqHGdRcGRx4F4WwgJ0C3sVyP4HdZ5vaYVpIyiqF6tia8Nvg4OWHfcu8VM~pr4ldC08FH-k3m3~E96AAHF3Gy1ntHVNLDZrfyHsw1UEHt8ZU-mDGkQ5a-eTL6vkdI~Ibw__&Key-Pair-Id=KVTP0A1DKRTAX\n",
            "Resolving cdn-lfs.huggingface.co (cdn-lfs.huggingface.co)... 108.138.94.23, 108.138.94.122, 108.138.94.25, ...\n",
            "Connecting to cdn-lfs.huggingface.co (cdn-lfs.huggingface.co)|108.138.94.23|:443... connected.\n",
            "HTTP request sent, awaiting response... 200 OK\n",
            "Length: 199591017 (190M) [application/zip]\n",
            "Saving to: ‘bangla_word2vec_gen4.zip’\n",
            "\n",
            "bangla_word2vec_gen 100%[===================>] 190.34M  48.9MB/s    in 4.3s    \n",
            "\n",
            "2023-01-02 16:04:59 (44.2 MB/s) - ‘bangla_word2vec_gen4.zip’ saved [199591017/199591017]\n",
            "\n",
            "--2023-01-02 16:04:59--  https://huggingface.co/sagorsarker/bangla-glove-vectors/resolve/main/bn_glove.300d.zip\n",
            "Resolving huggingface.co (huggingface.co)... 18.235.116.140, 54.144.222.129, 2600:1f18:147f:e800:8e23:1296:56ee:cadc, ...\n",
            "Connecting to huggingface.co (huggingface.co)|18.235.116.140|:443... connected.\n",
            "HTTP request sent, awaiting response... 302 Found\n",
            "Location: https://cdn-lfs.huggingface.co/repos/aa/54/aa548a31e1afcb96a938d527a7a3914d612289d4eec18ddd467509e7f2f37969/5d66200bc461365e98afa1ff172c40ebef5fd64e8c8188744a9fe3673148ce11?response-content-disposition=attachment%3B%20filename%3D%22bn_glove.300d.zip%22&Expires=1672922455&Policy=eyJTdGF0ZW1lbnQiOlt7IlJlc291cmNlIjoiaHR0cHM6Ly9jZG4tbGZzLmh1Z2dpbmdmYWNlLmNvL3JlcG9zL2FhLzU0L2FhNTQ4YTMxZTFhZmNiOTZhOTM4ZDUyN2E3YTM5MTRkNjEyMjg5ZDRlZWMxOGRkZDQ2NzUwOWU3ZjJmMzc5NjkvNWQ2NjIwMGJjNDYxMzY1ZTk4YWZhMWZmMTcyYzQwZWJlZjVmZDY0ZThjODE4ODc0NGE5ZmUzNjczMTQ4Y2UxMT9yZXNwb25zZS1jb250ZW50LWRpc3Bvc2l0aW9uPWF0dGFjaG1lbnQlM0IlMjBmaWxlbmFtZSUzRCUyMmJuX2dsb3ZlLjMwMGQuemlwJTIyIiwiQ29uZGl0aW9uIjp7IkRhdGVMZXNzVGhhbiI6eyJBV1M6RXBvY2hUaW1lIjoxNjcyOTIyNDU1fX19XX0_&Signature=nBMKLfM~kulho0QFXxGIb2cejloACdGvLxrwVS7JQRvM5YgBGA9geWXfF6tzP3vFQCCgcc3P7BpDy2Nvh4ZsAYjT9M0lV0XbGGrMNJItTr-wNgGksfc0~aXOdgZbrJ0JGI4gpdSj8oDLS6AM8KLqhx8mESPCtQUnFB7400foDHwSiogTfWd8o1DdpE9ZNc79nF0xdKQ2mW1PaLicfS1Paqthgx1TnBUlbtT0Y1aoEP0RzcGkHZCWA6ll~UMXLbiJSOxAlf6KspkzbDvDdWiRqDLvy0pQ6SBJKGh-jlhK5vul7wKTn53NGvKf7b9hCpOELM~eiivai2-dNPjrMTZTfA__&Key-Pair-Id=KVTP0A1DKRTAX [following]\n",
            "--2023-01-02 16:04:59--  https://cdn-lfs.huggingface.co/repos/aa/54/aa548a31e1afcb96a938d527a7a3914d612289d4eec18ddd467509e7f2f37969/5d66200bc461365e98afa1ff172c40ebef5fd64e8c8188744a9fe3673148ce11?response-content-disposition=attachment%3B%20filename%3D%22bn_glove.300d.zip%22&Expires=1672922455&Policy=eyJTdGF0ZW1lbnQiOlt7IlJlc291cmNlIjoiaHR0cHM6Ly9jZG4tbGZzLmh1Z2dpbmdmYWNlLmNvL3JlcG9zL2FhLzU0L2FhNTQ4YTMxZTFhZmNiOTZhOTM4ZDUyN2E3YTM5MTRkNjEyMjg5ZDRlZWMxOGRkZDQ2NzUwOWU3ZjJmMzc5NjkvNWQ2NjIwMGJjNDYxMzY1ZTk4YWZhMWZmMTcyYzQwZWJlZjVmZDY0ZThjODE4ODc0NGE5ZmUzNjczMTQ4Y2UxMT9yZXNwb25zZS1jb250ZW50LWRpc3Bvc2l0aW9uPWF0dGFjaG1lbnQlM0IlMjBmaWxlbmFtZSUzRCUyMmJuX2dsb3ZlLjMwMGQuemlwJTIyIiwiQ29uZGl0aW9uIjp7IkRhdGVMZXNzVGhhbiI6eyJBV1M6RXBvY2hUaW1lIjoxNjcyOTIyNDU1fX19XX0_&Signature=nBMKLfM~kulho0QFXxGIb2cejloACdGvLxrwVS7JQRvM5YgBGA9geWXfF6tzP3vFQCCgcc3P7BpDy2Nvh4ZsAYjT9M0lV0XbGGrMNJItTr-wNgGksfc0~aXOdgZbrJ0JGI4gpdSj8oDLS6AM8KLqhx8mESPCtQUnFB7400foDHwSiogTfWd8o1DdpE9ZNc79nF0xdKQ2mW1PaLicfS1Paqthgx1TnBUlbtT0Y1aoEP0RzcGkHZCWA6ll~UMXLbiJSOxAlf6KspkzbDvDdWiRqDLvy0pQ6SBJKGh-jlhK5vul7wKTn53NGvKf7b9hCpOELM~eiivai2-dNPjrMTZTfA__&Key-Pair-Id=KVTP0A1DKRTAX\n",
            "Resolving cdn-lfs.huggingface.co (cdn-lfs.huggingface.co)... 108.138.94.23, 108.138.94.122, 108.138.94.25, ...\n",
            "Connecting to cdn-lfs.huggingface.co (cdn-lfs.huggingface.co)|108.138.94.23|:443... connected.\n",
            "HTTP request sent, awaiting response... 200 OK\n",
            "Length: 145929792 (139M) [application/zip]\n",
            "Saving to: ‘bn_glove.300d.zip’\n",
            "\n",
            "bn_glove.300d.zip   100%[===================>] 139.17M  46.4MB/s    in 3.0s    \n",
            "\n",
            "2023-01-02 16:05:02 (46.4 MB/s) - ‘bn_glove.300d.zip’ saved [145929792/145929792]\n",
            "\n",
            "Archive:  bangla_word2vec_gen4.zip\n",
            "   creating: bangla_word2vec/\n",
            "  inflating: bangla_word2vec/README.md  \n",
            "  inflating: bangla_word2vec/bnwiki_word2vec.model  \n",
            "  inflating: bangla_word2vec/bnwiki_word2vec.model.syn1neg.npy  \n",
            "  inflating: bangla_word2vec/bnwiki_word2vec.model.wv.vectors.npy  \n",
            "  inflating: bangla_word2vec/bnwiki_word2vec.vector  \n",
            "   creating: bangla_word2vec/evaluations/\n",
            "  inflating: bangla_word2vec/evaluations/evaluation.json  \n",
            "Archive:  bn_glove.300d.zip\n",
            "  inflating: bn_glove.300d.txt       \n"
          ]
        }
      ]
    },
    {
      "cell_type": "markdown",
      "metadata": {
        "id": "SaUFAGkoOjw9"
      },
      "source": [
        "## Imports"
      ]
    },
    {
      "cell_type": "code",
      "execution_count": null,
      "metadata": {
        "id": "MeHFP-aKe8yS"
      },
      "outputs": [],
      "source": [
        "import warnings\n",
        "warnings.filterwarnings('ignore')"
      ]
    },
    {
      "cell_type": "code",
      "execution_count": null,
      "metadata": {
        "id": "JEtV-2-RNpO5"
      },
      "outputs": [],
      "source": [
        "import pandas as pd\n",
        "import numpy as np\n",
        "import matplotlib.pyplot as plt\n",
        "%matplotlib inline"
      ]
    },
    {
      "cell_type": "code",
      "execution_count": null,
      "metadata": {
        "id": "pQJ_1ZHyvhne"
      },
      "outputs": [],
      "source": [
        "\n",
        "from transformers import *\n"
      ]
    },
    {
      "cell_type": "code",
      "source": [
        "# from bnaug.sentence import BackTranslation\n",
        "# from bnaug.sentence import TextGeneration\n",
        "from bnaug.sentence import RandomAugmentation\n",
        "from bnaug import randaug\n"
      ],
      "metadata": {
        "id": "Y8HUkPUvbVAv"
      },
      "execution_count": null,
      "outputs": []
    },
    {
      "cell_type": "markdown",
      "source": [
        "##function definitions"
      ],
      "metadata": {
        "id": "rxjGSMzpci3p"
      }
    },
    {
      "cell_type": "code",
      "source": [
        "def calc_len(sent):\n",
        "  word_count = len(sent.split())\n",
        "  return word_count"
      ],
      "metadata": {
        "id": "EYapiG6acleo"
      },
      "execution_count": null,
      "outputs": []
    },
    {
      "cell_type": "code",
      "source": [
        "def split_sent_daari(str_w):\n",
        "  x = str_w.rsplit(\"। \")\n",
        "  n = len(x)\n",
        "  if n==1:\n",
        "    x = str_w.rsplit(\"।\")\n",
        "    n = len(x)\n",
        "  if n==1:\n",
        "    return -1\n",
        "\n",
        "  return x\n",
        "    "
      ],
      "metadata": {
        "id": "ybnf2b_emm-S"
      },
      "execution_count": null,
      "outputs": []
    },
    {
      "cell_type": "markdown",
      "source": [
        "##Loading data"
      ],
      "metadata": {
        "id": "dn78XqCN9Lm8"
      }
    },
    {
      "cell_type": "code",
      "source": [
        "path1 = '/content/drive/MyDrive/datasets/Fake-1K.csv'"
      ],
      "metadata": {
        "id": "Xh-iEdvPb-e7"
      },
      "execution_count": null,
      "outputs": []
    },
    {
      "cell_type": "code",
      "source": [
        "df = pd.read_csv(path1)"
      ],
      "metadata": {
        "id": "AIombA4WerWT"
      },
      "execution_count": null,
      "outputs": []
    },
    {
      "cell_type": "code",
      "source": [
        "split1 = df\n",
        "df.head(2)"
      ],
      "metadata": {
        "colab": {
          "base_uri": "https://localhost:8080/"
        },
        "id": "-7Ek9SgTudBp",
        "outputId": "3e5a0cca-80ca-438e-c242-d8c1d7b27fb7"
      },
      "execution_count": null,
      "outputs": [
        {
          "output_type": "execute_result",
          "data": {
            "text/plain": [
              "   articleID             domain                       date       category  \\\n",
              "0          1  channeldhaka.news  2019-03-14T13:34:14+00:00  International   \n",
              "1          2          earki.com           সেম্বর ১৭, ২০১৮   Miscellaneous   \n",
              "\n",
              "                                  headline  \\\n",
              "0                 মুরগির হামলায় শেয়াল নিহত   \n",
              "1  বিটিভিতে যেবার আমি ইন্টারভিউ দিতে গেলাম   \n",
              "\n",
              "                                             content  label  \n",
              "0  বাংলায় একটা প্রবাদ আছে, শেয়ালের কাছে মুরগী বর্...      0  \n",
              "1  BTV থেকে লোকজন আসছে, ইন্টারভিউ নিবে।চারজনের টি...      0  "
            ],
            "text/html": [
              "\n",
              "  <div id=\"df-c26ec6ba-b130-4eda-a053-2b7f83e76f62\">\n",
              "    <div class=\"colab-df-container\">\n",
              "      <div>\n",
              "<style scoped>\n",
              "    .dataframe tbody tr th:only-of-type {\n",
              "        vertical-align: middle;\n",
              "    }\n",
              "\n",
              "    .dataframe tbody tr th {\n",
              "        vertical-align: top;\n",
              "    }\n",
              "\n",
              "    .dataframe thead th {\n",
              "        text-align: right;\n",
              "    }\n",
              "</style>\n",
              "<table border=\"1\" class=\"dataframe\">\n",
              "  <thead>\n",
              "    <tr style=\"text-align: right;\">\n",
              "      <th></th>\n",
              "      <th>articleID</th>\n",
              "      <th>domain</th>\n",
              "      <th>date</th>\n",
              "      <th>category</th>\n",
              "      <th>headline</th>\n",
              "      <th>content</th>\n",
              "      <th>label</th>\n",
              "    </tr>\n",
              "  </thead>\n",
              "  <tbody>\n",
              "    <tr>\n",
              "      <th>0</th>\n",
              "      <td>1</td>\n",
              "      <td>channeldhaka.news</td>\n",
              "      <td>2019-03-14T13:34:14+00:00</td>\n",
              "      <td>International</td>\n",
              "      <td>মুরগির হামলায় শেয়াল নিহত</td>\n",
              "      <td>বাংলায় একটা প্রবাদ আছে, শেয়ালের কাছে মুরগী বর্...</td>\n",
              "      <td>0</td>\n",
              "    </tr>\n",
              "    <tr>\n",
              "      <th>1</th>\n",
              "      <td>2</td>\n",
              "      <td>earki.com</td>\n",
              "      <td>সেম্বর ১৭, ২০১৮</td>\n",
              "      <td>Miscellaneous</td>\n",
              "      <td>বিটিভিতে যেবার আমি ইন্টারভিউ দিতে গেলাম</td>\n",
              "      <td>BTV থেকে লোকজন আসছে, ইন্টারভিউ নিবে।চারজনের টি...</td>\n",
              "      <td>0</td>\n",
              "    </tr>\n",
              "  </tbody>\n",
              "</table>\n",
              "</div>\n",
              "      <button class=\"colab-df-convert\" onclick=\"convertToInteractive('df-c26ec6ba-b130-4eda-a053-2b7f83e76f62')\"\n",
              "              title=\"Convert this dataframe to an interactive table.\"\n",
              "              style=\"display:none;\">\n",
              "        \n",
              "  <svg xmlns=\"http://www.w3.org/2000/svg\" height=\"24px\"viewBox=\"0 0 24 24\"\n",
              "       width=\"24px\">\n",
              "    <path d=\"M0 0h24v24H0V0z\" fill=\"none\"/>\n",
              "    <path d=\"M18.56 5.44l.94 2.06.94-2.06 2.06-.94-2.06-.94-.94-2.06-.94 2.06-2.06.94zm-11 1L8.5 8.5l.94-2.06 2.06-.94-2.06-.94L8.5 2.5l-.94 2.06-2.06.94zm10 10l.94 2.06.94-2.06 2.06-.94-2.06-.94-.94-2.06-.94 2.06-2.06.94z\"/><path d=\"M17.41 7.96l-1.37-1.37c-.4-.4-.92-.59-1.43-.59-.52 0-1.04.2-1.43.59L10.3 9.45l-7.72 7.72c-.78.78-.78 2.05 0 2.83L4 21.41c.39.39.9.59 1.41.59.51 0 1.02-.2 1.41-.59l7.78-7.78 2.81-2.81c.8-.78.8-2.07 0-2.86zM5.41 20L4 18.59l7.72-7.72 1.47 1.35L5.41 20z\"/>\n",
              "  </svg>\n",
              "      </button>\n",
              "      \n",
              "  <style>\n",
              "    .colab-df-container {\n",
              "      display:flex;\n",
              "      flex-wrap:wrap;\n",
              "      gap: 12px;\n",
              "    }\n",
              "\n",
              "    .colab-df-convert {\n",
              "      background-color: #E8F0FE;\n",
              "      border: none;\n",
              "      border-radius: 50%;\n",
              "      cursor: pointer;\n",
              "      display: none;\n",
              "      fill: #1967D2;\n",
              "      height: 32px;\n",
              "      padding: 0 0 0 0;\n",
              "      width: 32px;\n",
              "    }\n",
              "\n",
              "    .colab-df-convert:hover {\n",
              "      background-color: #E2EBFA;\n",
              "      box-shadow: 0px 1px 2px rgba(60, 64, 67, 0.3), 0px 1px 3px 1px rgba(60, 64, 67, 0.15);\n",
              "      fill: #174EA6;\n",
              "    }\n",
              "\n",
              "    [theme=dark] .colab-df-convert {\n",
              "      background-color: #3B4455;\n",
              "      fill: #D2E3FC;\n",
              "    }\n",
              "\n",
              "    [theme=dark] .colab-df-convert:hover {\n",
              "      background-color: #434B5C;\n",
              "      box-shadow: 0px 1px 3px 1px rgba(0, 0, 0, 0.15);\n",
              "      filter: drop-shadow(0px 1px 2px rgba(0, 0, 0, 0.3));\n",
              "      fill: #FFFFFF;\n",
              "    }\n",
              "  </style>\n",
              "\n",
              "      <script>\n",
              "        const buttonEl =\n",
              "          document.querySelector('#df-c26ec6ba-b130-4eda-a053-2b7f83e76f62 button.colab-df-convert');\n",
              "        buttonEl.style.display =\n",
              "          google.colab.kernel.accessAllowed ? 'block' : 'none';\n",
              "\n",
              "        async function convertToInteractive(key) {\n",
              "          const element = document.querySelector('#df-c26ec6ba-b130-4eda-a053-2b7f83e76f62');\n",
              "          const dataTable =\n",
              "            await google.colab.kernel.invokeFunction('convertToInteractive',\n",
              "                                                     [key], {});\n",
              "          if (!dataTable) return;\n",
              "\n",
              "          const docLinkHtml = 'Like what you see? Visit the ' +\n",
              "            '<a target=\"_blank\" href=https://colab.research.google.com/notebooks/data_table.ipynb>data table notebook</a>'\n",
              "            + ' to learn more about interactive tables.';\n",
              "          element.innerHTML = '';\n",
              "          dataTable['output_type'] = 'display_data';\n",
              "          await google.colab.output.renderOutput(dataTable, element);\n",
              "          const docLink = document.createElement('div');\n",
              "          docLink.innerHTML = docLinkHtml;\n",
              "          element.appendChild(docLink);\n",
              "        }\n",
              "      </script>\n",
              "    </div>\n",
              "  </div>\n",
              "  "
            ]
          },
          "metadata": {},
          "execution_count": 14
        }
      ]
    },
    {
      "cell_type": "code",
      "source": [
        "split1['text'] = split1['headline'] + '। ' + split1['content']\n",
        "split1 = split1.drop(['headline','content'],axis=1)\n",
        "split1.head(2)"
      ],
      "metadata": {
        "colab": {
          "base_uri": "https://localhost:8080/"
        },
        "id": "oL1_v9J8vZZy",
        "outputId": "73afcbb1-7783-4906-a68f-abaa9040aa5c"
      },
      "execution_count": null,
      "outputs": [
        {
          "output_type": "execute_result",
          "data": {
            "text/plain": [
              "   articleID             domain                       date       category  \\\n",
              "0          1  channeldhaka.news  2019-03-14T13:34:14+00:00  International   \n",
              "1          2          earki.com           সেম্বর ১৭, ২০১৮   Miscellaneous   \n",
              "\n",
              "   label                                               text  \n",
              "0      0  মুরগির হামলায় শেয়াল নিহত। বাংলায় একটা প্রবাদ আ...  \n",
              "1      0  বিটিভিতে যেবার আমি ইন্টারভিউ দিতে গেলাম। BTV থ...  "
            ],
            "text/html": [
              "\n",
              "  <div id=\"df-f5bc4eca-5ceb-4b09-9066-0d5d6dc22fda\">\n",
              "    <div class=\"colab-df-container\">\n",
              "      <div>\n",
              "<style scoped>\n",
              "    .dataframe tbody tr th:only-of-type {\n",
              "        vertical-align: middle;\n",
              "    }\n",
              "\n",
              "    .dataframe tbody tr th {\n",
              "        vertical-align: top;\n",
              "    }\n",
              "\n",
              "    .dataframe thead th {\n",
              "        text-align: right;\n",
              "    }\n",
              "</style>\n",
              "<table border=\"1\" class=\"dataframe\">\n",
              "  <thead>\n",
              "    <tr style=\"text-align: right;\">\n",
              "      <th></th>\n",
              "      <th>articleID</th>\n",
              "      <th>domain</th>\n",
              "      <th>date</th>\n",
              "      <th>category</th>\n",
              "      <th>label</th>\n",
              "      <th>text</th>\n",
              "    </tr>\n",
              "  </thead>\n",
              "  <tbody>\n",
              "    <tr>\n",
              "      <th>0</th>\n",
              "      <td>1</td>\n",
              "      <td>channeldhaka.news</td>\n",
              "      <td>2019-03-14T13:34:14+00:00</td>\n",
              "      <td>International</td>\n",
              "      <td>0</td>\n",
              "      <td>মুরগির হামলায় শেয়াল নিহত। বাংলায় একটা প্রবাদ আ...</td>\n",
              "    </tr>\n",
              "    <tr>\n",
              "      <th>1</th>\n",
              "      <td>2</td>\n",
              "      <td>earki.com</td>\n",
              "      <td>সেম্বর ১৭, ২০১৮</td>\n",
              "      <td>Miscellaneous</td>\n",
              "      <td>0</td>\n",
              "      <td>বিটিভিতে যেবার আমি ইন্টারভিউ দিতে গেলাম। BTV থ...</td>\n",
              "    </tr>\n",
              "  </tbody>\n",
              "</table>\n",
              "</div>\n",
              "      <button class=\"colab-df-convert\" onclick=\"convertToInteractive('df-f5bc4eca-5ceb-4b09-9066-0d5d6dc22fda')\"\n",
              "              title=\"Convert this dataframe to an interactive table.\"\n",
              "              style=\"display:none;\">\n",
              "        \n",
              "  <svg xmlns=\"http://www.w3.org/2000/svg\" height=\"24px\"viewBox=\"0 0 24 24\"\n",
              "       width=\"24px\">\n",
              "    <path d=\"M0 0h24v24H0V0z\" fill=\"none\"/>\n",
              "    <path d=\"M18.56 5.44l.94 2.06.94-2.06 2.06-.94-2.06-.94-.94-2.06-.94 2.06-2.06.94zm-11 1L8.5 8.5l.94-2.06 2.06-.94-2.06-.94L8.5 2.5l-.94 2.06-2.06.94zm10 10l.94 2.06.94-2.06 2.06-.94-2.06-.94-.94-2.06-.94 2.06-2.06.94z\"/><path d=\"M17.41 7.96l-1.37-1.37c-.4-.4-.92-.59-1.43-.59-.52 0-1.04.2-1.43.59L10.3 9.45l-7.72 7.72c-.78.78-.78 2.05 0 2.83L4 21.41c.39.39.9.59 1.41.59.51 0 1.02-.2 1.41-.59l7.78-7.78 2.81-2.81c.8-.78.8-2.07 0-2.86zM5.41 20L4 18.59l7.72-7.72 1.47 1.35L5.41 20z\"/>\n",
              "  </svg>\n",
              "      </button>\n",
              "      \n",
              "  <style>\n",
              "    .colab-df-container {\n",
              "      display:flex;\n",
              "      flex-wrap:wrap;\n",
              "      gap: 12px;\n",
              "    }\n",
              "\n",
              "    .colab-df-convert {\n",
              "      background-color: #E8F0FE;\n",
              "      border: none;\n",
              "      border-radius: 50%;\n",
              "      cursor: pointer;\n",
              "      display: none;\n",
              "      fill: #1967D2;\n",
              "      height: 32px;\n",
              "      padding: 0 0 0 0;\n",
              "      width: 32px;\n",
              "    }\n",
              "\n",
              "    .colab-df-convert:hover {\n",
              "      background-color: #E2EBFA;\n",
              "      box-shadow: 0px 1px 2px rgba(60, 64, 67, 0.3), 0px 1px 3px 1px rgba(60, 64, 67, 0.15);\n",
              "      fill: #174EA6;\n",
              "    }\n",
              "\n",
              "    [theme=dark] .colab-df-convert {\n",
              "      background-color: #3B4455;\n",
              "      fill: #D2E3FC;\n",
              "    }\n",
              "\n",
              "    [theme=dark] .colab-df-convert:hover {\n",
              "      background-color: #434B5C;\n",
              "      box-shadow: 0px 1px 3px 1px rgba(0, 0, 0, 0.15);\n",
              "      filter: drop-shadow(0px 1px 2px rgba(0, 0, 0, 0.3));\n",
              "      fill: #FFFFFF;\n",
              "    }\n",
              "  </style>\n",
              "\n",
              "      <script>\n",
              "        const buttonEl =\n",
              "          document.querySelector('#df-f5bc4eca-5ceb-4b09-9066-0d5d6dc22fda button.colab-df-convert');\n",
              "        buttonEl.style.display =\n",
              "          google.colab.kernel.accessAllowed ? 'block' : 'none';\n",
              "\n",
              "        async function convertToInteractive(key) {\n",
              "          const element = document.querySelector('#df-f5bc4eca-5ceb-4b09-9066-0d5d6dc22fda');\n",
              "          const dataTable =\n",
              "            await google.colab.kernel.invokeFunction('convertToInteractive',\n",
              "                                                     [key], {});\n",
              "          if (!dataTable) return;\n",
              "\n",
              "          const docLinkHtml = 'Like what you see? Visit the ' +\n",
              "            '<a target=\"_blank\" href=https://colab.research.google.com/notebooks/data_table.ipynb>data table notebook</a>'\n",
              "            + ' to learn more about interactive tables.';\n",
              "          element.innerHTML = '';\n",
              "          dataTable['output_type'] = 'display_data';\n",
              "          await google.colab.output.renderOutput(dataTable, element);\n",
              "          const docLink = document.createElement('div');\n",
              "          docLink.innerHTML = docLinkHtml;\n",
              "          element.appendChild(docLink);\n",
              "        }\n",
              "      </script>\n",
              "    </div>\n",
              "  </div>\n",
              "  "
            ]
          },
          "metadata": {},
          "execution_count": 15
        }
      ]
    },
    {
      "cell_type": "code",
      "source": [
        "split1['text'][0]"
      ],
      "metadata": {
        "colab": {
          "base_uri": "https://localhost:8080/"
        },
        "id": "MLh6JJtwvfer",
        "outputId": "2a702914-1630-4856-a14c-707aa282a255"
      },
      "execution_count": null,
      "outputs": [
        {
          "output_type": "execute_result",
          "data": {
            "text/plain": [
              "'মুরগির হামলায় শেয়াল নিহত। বাংলায় একটা প্রবাদ আছে, শেয়ালের কাছে মুরগী বর্গা দেওয়া। প্রবাদটা এজন্য বলা হয় যে, শিয়ালের কাজই হলো মুরগী খেয়ে ফেলা। শেয়ালের কাছ থেকে মুরগী কখনো নিজেকে রক্ষা করতে পারেনা।তবে ফ্রান্সের এক বিশ্ববিদ্যালয়ের শিক্ষক-শিক্ষার্থীরা জানাচ্ছে, এবার এক আশ্চর্য্যজনক ঘটনা ঘটছে। মুরগীর হামলায় শিয়াল মারা গেছে।ঘটনাটি গত সপ্তাহের, ফ্রান্সের উত্তর-পূর্বাঞ্চলের বুতানিয়া এলাকার একটি কৃষিবিষয়ক বিদ্যালয়ে। ওই বিদ্যালয়ে একটি মুরগির খামার রয়েছে। মুরগির ঘরের এক কোনায় সকালে মৃত একটি শিয়াল পড়ে থাকতে দেখে শিক্ষার্থীরা।৬ হাজার মুরগি রয়েছে খামারটিতে। শিয়ালটির মৃতদেহ যেখানে পাওয়া গেছে, সেখানে তিন হাজার মুরগি ছিল। মুরগিগুলো সারা দিন বাইরে চরে বেড়ায়। সন্ধ্যা হলে নিজ থেকে ঘরে উঠে আসে। সূর্য ডুবে গেলেই দরজা বন্ধ হয়ে যায় স্বয়ংক্রিয়ভাবে।স্থানীয় বন্য প্রাণী বিশেষজ্ঞরা জানিয়েছেন, এই ঘটনায় তাঁরা অবাক। শিয়ালটি বাচ্চা ও অনভিজ্ঞ ছিল। এতগুলো মুরগির সামনে পড়ে সে সম্ভবত ভড়কে গিয়েছিল।Source- BBC Bangla'"
            ],
            "application/vnd.google.colaboratory.intrinsic+json": {
              "type": "string"
            }
          },
          "metadata": {},
          "execution_count": 16
        }
      ]
    },
    {
      "cell_type": "code",
      "source": [
        "a_sent = \"\"\n",
        "for i in range(len(split1)):\n",
        "  sent = split1['text'][i]\n",
        "  if(calc_len(sent)>500):\n",
        "    a_sent = sent\n",
        "    print(i,' ', a_sent)\n",
        "    break;\n"
      ],
      "metadata": {
        "colab": {
          "base_uri": "https://localhost:8080/"
        },
        "id": "L0OQ1XkBcoQg",
        "outputId": "ef0b2543-1a73-4e00-82da-260b6a8c2f25"
      },
      "execution_count": null,
      "outputs": [
        {
          "output_type": "stream",
          "name": "stdout",
          "text": [
            "16   যে কারণে ছেলেদের বাল্যবিবাহ দেয়া উচিত !। ছেলের বয়স ২৩, ছেলেকে বিয়ে দিচ্ছেন না, কারণ আপনার ধারনা ছেলে এখনও ছোট। আপনার কাছে ছেলে অবশ্যই ছোট । কিন্তু সে নিজে জানে, সে আসলে কতটা বড় হয়ে গেছে । সে এটা আপনাকে বিস্তারিত বলতে পারে না। বলতে গেলে আপনার চাইতে সেই লজ্জা বেশি পাবে।আপনি বলতে পারেন ছেলে বিয়ে করলে বউকে খাওয়াবে কি? প্রশ্ন হচ্ছে, যে মেয়েটাকে সে এখন বিয়ে করার কথা ভাবছে, সে কি তাহলে এত বছর না খেয়ে ছিল?? বিয়ে যদি আরও পাচ বছর পরও হয়, মেয়ে কি না খেয়ে থাকবে? মেয়ে যদি বিয়ে ছাড়া কোন ভাবেই না খেয়ে না থাকে তাহলে শুধু বিয়েটা পড়ানোর পরেই কেন খাওয়ার চিন্তা আসবে?? মেয়ে তার বাপের কাছে থাকুক, ছেলের যখন সামর্থ্য হবে মেয়েকে নিয়ে আসবে নিজের কাছে। এখন দেখা যাক বাল্যবিবাহ এর অ্যাডভান্টেজ ডিসঅ্যাডভান্টেজ গুলা।অ্যাডভান্টেজঃছেলের জীবনে টেনশন জাস্ট অর্ধেক হয়ে যাবে। তার বিয়ে হয়েছে মানে তার “গার্লফ্রেণ্ডের বিয়ে হয়ে যাবে” রোজ রোজ এই দুশ্চিন্তা করতে হবে না।বিয়ের পরে মানুষ গোছালো হয়। এই বয়সের ছেলেরা অত্যন্ত অগোছালো হয়ে অপেক্ষায় থাকে কেউ একজন এসে তার জীবনটাকে গুছিয়ে দিয়ে যাবে ভেবে। একজন স্ত্রী ছাড়া কোন গার্লফ্রেণ্ডের পক্ষে এটা সম্ভব না।ডেটিংয়ের পেছনে যা খরচ হত, তা দিয়ে তারা দুজন বিয়ের পর দিব্যি প্রেম করে যেতে পারবে, কারও গুনাহ হবে না।পর্ন নামক জিনিসটার বাজারদরে ভাটার টান পড়বে। মুসলিম দেশগুলাতে পর্নের এত রমরমা কাটতির কারন কি জানেন? মুসলিমদের জন্য এক্সট্রা ম্যারিটাল সেক্স নিষিদ্ধ। তরুন বয়সীরা যখন জৈবিক চাহিদা বৈধ ভাবে মেটানোর সুযোগ না পায়, তখন তারা আলটিমেটলি বিকৃত উপায়ের দিকে আরও বেশি ঝুকতে থাকে। এই জিনিস কোনক্রমেই আপনি রুখতে পারবেন না। এগুলো হল একটা পানির স্রোতের মত, কোননা কোন দিকে তা গড়াবেই।আপনি নিজে স্ট্রেস ফ্রি থাকবেন। ছেলে কই কার সাথে কি করছে তা দেখার ভারটা ছেলের বউই তখন নিতে পারবে।ছেলে ও মেয়ে দুজনেই তখন স্যাক্রিফাইস করা শিখবে। এই শিক্ষাটা না থাকায় এখন দিনকে দিন মানুষের জীবন কঠিন হয়ে যাচ্ছে। এবার ডিসঅ্যাডভান্টেজের হিসেবে আসি –কিছু পয়সা পাতি খরচ হতে পারে।লোকে বাল্যবিবাহ বলে বদনাম করতে পারে।ছেলে-মেয়ে দুজনেই ৬-৮ মাস পড়াশোনাতে একটু ঢিল দিতে পারে।আপনি যদি মোবাইল কোম্পানির মালিক হন তাহলে এটা আপনার ব্যবসার জন্য ক্ষতিকর।যদি আপনি পর্ন ইণ্ডাস্ট্রির মালিক হন তাইলে এটা আপনার জন্য ক্ষতিকর।ছেলে হয়তো পুরোপুরি আপনার কন্ট্রোলে নাও থাকতে পারে। এটা নির্ভর করে ছেলের ব্যক্তিত্বের ওপর। সারা জীবন তাকে কি শিখালেন তার ওপর। তাকে চামচামি শিখালে সে আলটিমেটলি চামচামিই করবে, তা হোক বউয়ের বা মায়ের চামচামি। যদি পুরুষ হিসেবে গড়ে তুলতে পারেন তো কিভাবে বউ-মা দুজনকে এক সাথে হ্যাণ্ডল করতে হয় সেটা সে দেখবে, যদি আপনারা ঠিক থাকতে চান।এখন আমাদের অভিভাবকদের এই মেসেজটা দেয়ার সময় হয়েছে, তারা ঠিক করুক তারা কি চায়। তারা যদি চায় আগামী পাঁচ ছয় বছর ছেলে দিনে ডেট আর রাতে মাস্টার বেট করে কাটাক এবং মানসিক বিকৃতির শিকার হোক, তবু সমাজের চোখে তার মুখ রক্ষা করুক, তবে তারা আগের সিদ্ধান্তেই অটল থাকতে পারেন।যদি তা না চান, তবে একটু সাহস করে আল্লাহর ওপর ভরসা করে বিয়েটা করিয়ে দিতে পারেন। ছেলে-মেয়ে সবাই এখন রোজগার করতে পারে। বিয়ে করার কারনে কেউ না খেয়ে মরবে না। মোস্ট ইম্পর্ট্যান্টলি, দুজন তখন প্রেমের অনিশ্চয়তা থেকে মুক্ত হয়ে ঠাণ্ডা মাথায় ক্যারিয়ারের হিসেবটা কষতে পারবে, একজন আরেকজনকে আরও বেশি সময় দিতে পারবে সবকিছু ঠিক রেখেই এবং তাতে আপনার হার্ট অ্যাটাক হবার কোন সম্ভাবনা থাকবে না কারন আপনি জানেন আপনার ছেলে/ মেয়ে তার স্ত্রী বা স্বামীর সাথেই আছে। আমার ফ্রেণ্ড লিস্টে গার্ডিয়ান লেভেলের মানুষ খুব কম। কিন্তু বড় ভাই-বোন লেভেলের মানুষ আছেন অনেক। আশা করি ফ্যামিলি লেভেলে ডিসিশন নেবার সময় কথাগুলো একবার ভেবে দেখবেন।একটু ভেবে দেখেন, এই বয়সে আপনার ডিসিশনের কারনে বিয়ে না করে যে ছেলেটা বা মেয়েটা বছরের পর বছর ধরে গুনাহ করে যাবে, এগুলোর হিসাব আপনাকেই হাশরের ময়দানে চুকাতে হবে। তখন কাকে কৈফিয়ত দেবেন?(ফেসবুক থেকে সংগ্রহিত একটি রম্য পোস্ট)\n"
          ]
        }
      ]
    },
    {
      "cell_type": "markdown",
      "source": [
        "##Data Augmentation"
      ],
      "metadata": {
        "id": "bSmeQamOBCEb"
      }
    },
    {
      "cell_type": "markdown",
      "source": [
        "###loading augmenter and an example"
      ],
      "metadata": {
        "id": "9rnRlMbut2J4"
      }
    },
    {
      "cell_type": "code",
      "source": [
        "raug = RandomAugmentation()\n"
      ],
      "metadata": {
        "id": "7zN6xOnse7h6"
      },
      "execution_count": null,
      "outputs": []
    },
    {
      "cell_type": "code",
      "source": [
        "a_sent"
      ],
      "metadata": {
        "colab": {
          "base_uri": "https://localhost:8080/",
          "height": 122
        },
        "id": "1tiys1M_ggm5",
        "outputId": "af13dc17-98ed-4fac-e96a-53a16ca87e65"
      },
      "execution_count": null,
      "outputs": [
        {
          "output_type": "execute_result",
          "data": {
            "text/plain": [
              "'যে কারণে ছেলেদের বাল্যবিবাহ দেয়া উচিত !। ছেলের বয়স ২৩, ছেলেকে বিয়ে দিচ্ছেন না, কারণ আপনার ধারনা ছেলে এখনও ছোট। আপনার কাছে ছেলে অবশ্যই ছোট । কিন্তু সে নিজে জানে, সে আসলে কতটা বড় হয়ে গেছে । সে এটা আপনাকে বিস্তারিত বলতে পারে না। বলতে গেলে আপনার চাইতে সেই লজ্জা বেশি পাবে।আপনি বলতে পারেন ছেলে বিয়ে করলে বউকে খাওয়াবে কি? প্রশ্ন হচ্ছে, যে মেয়েটাকে সে এখন বিয়ে করার কথা ভাবছে, সে কি তাহলে এত বছর না খেয়ে ছিল?? বিয়ে যদি আরও পাচ বছর পরও হয়, মেয়ে কি না খেয়ে থাকবে? মেয়ে যদি বিয়ে ছাড়া কোন ভাবেই না খেয়ে না থাকে তাহলে শুধু বিয়েটা পড়ানোর পরেই কেন খাওয়ার চিন্তা আসবে?? মেয়ে তার বাপের কাছে থাকুক, ছেলের যখন সামর্থ্য হবে মেয়েকে নিয়ে আসবে নিজের কাছে। এখন দেখা যাক বাল্যবিবাহ এর অ্যাডভান্টেজ ডিসঅ্যাডভান্টেজ গুলা।অ্যাডভান্টেজঃছেলের জীবনে টেনশন জাস্ট অর্ধেক হয়ে যাবে। তার বিয়ে হয়েছে মানে তার “গার্লফ্রেণ্ডের বিয়ে হয়ে যাবে” রোজ রোজ এই দুশ্চিন্তা করতে হবে না।বিয়ের পরে মানুষ গোছালো হয়। এই বয়সের ছেলেরা অত্যন্ত অগোছালো হয়ে অপেক্ষায় থাকে কেউ একজন এসে তার জীবনটাকে গুছিয়ে দিয়ে যাবে ভেবে। একজন স্ত্রী ছাড়া কোন গার্লফ্রেণ্ডের পক্ষে এটা সম্ভব না।ডেটিংয়ের পেছনে যা খরচ হত, তা দিয়ে তারা দুজন বিয়ের পর দিব্যি প্রেম করে যেতে পারবে, কারও গুনাহ হবে না।পর্ন নামক জিনিসটার বাজারদরে ভাটার টান পড়বে। মুসলিম দেশগুলাতে পর্নের এত রমরমা কাটতির কারন কি জানেন? মুসলিমদের জন্য এক্সট্রা ম্যারিটাল সেক্স নিষিদ্ধ। তরুন বয়সীরা যখন জৈবিক চাহিদা বৈধ ভাবে মেটানোর সুযোগ না পায়, তখন তারা আলটিমেটলি বিকৃত উপায়ের দিকে আরও বেশি ঝুকতে থাকে। এই জিনিস কোনক্রমেই আপনি রুখতে পারবেন না। এগুলো হল একটা পানির স্রোতের মত, কোননা কোন দিকে তা গড়াবেই।আপনি নিজে স্ট্রেস ফ্রি থাকবেন। ছেলে কই কার সাথে কি করছে তা দেখার ভারটা ছেলের বউই তখন নিতে পারবে।ছেলে ও মেয়ে দুজনেই তখন স্যাক্রিফাইস করা শিখবে। এই শিক্ষাটা না থাকায় এখন দিনকে দিন মানুষের জীবন কঠিন হয়ে যাচ্ছে। এবার ডিসঅ্যাডভান্টেজের হিসেবে আসি –কিছু পয়সা পাতি খরচ হতে পারে।লোকে বাল্যবিবাহ বলে বদনাম করতে পারে।ছেলে-মেয়ে দুজনেই ৬-৮ মাস পড়াশোনাতে একটু ঢিল দিতে পারে।আপনি যদি মোবাইল কোম্পানির মালিক হন তাহলে এটা আপনার ব্যবসার জন্য ক্ষতিকর।যদি আপনি পর্ন ইণ্ডাস্ট্রির মালিক হন তাইলে এটা আপনার জন্য ক্ষতিকর।ছেলে হয়তো পুরোপুরি আপনার কন্ট্রোলে নাও থাকতে পারে। এটা নির্ভর করে ছেলের ব্যক্তিত্বের ওপর। সারা জীবন তাকে কি শিখালেন তার ওপর। তাকে চামচামি শিখালে সে আলটিমেটলি চামচামিই করবে, তা হোক বউয়ের বা মায়ের চামচামি। যদি পুরুষ হিসেবে গড়ে তুলতে পারেন তো কিভাবে বউ-মা দুজনকে এক সাথে হ্যাণ্ডল করতে হয় সেটা সে দেখবে, যদি আপনারা ঠিক থাকতে চান।এখন আমাদের অভিভাবকদের এই মেসেজটা দেয়ার সময় হয়েছে, তারা ঠিক করুক তারা কি চায়। তারা যদি চায় আগামী পাঁচ ছয় বছর ছেলে দিনে ডেট আর রাতে মাস্টার বেট করে কাটাক এবং মানসিক বিকৃতির শিকার হোক, তবু সমাজের চোখে তার মুখ রক্ষা করুক, তবে তারা আগের সিদ্ধান্তেই অটল থাকতে পারেন।যদি তা না চান, তবে একটু সাহস করে আল্লাহর ওপর ভরসা করে বিয়েটা করিয়ে দিতে পারেন। ছেলে-মেয়ে সবাই এখন রোজগার করতে পারে। বিয়ে করার কারনে কেউ না খেয়ে মরবে না। মোস্ট ইম্পর্ট্যান্টলি, দুজন তখন প্রেমের অনিশ্চয়তা থেকে মুক্ত হয়ে ঠাণ্ডা মাথায় ক্যারিয়ারের হিসেবটা কষতে পারবে, একজন আরেকজনকে আরও বেশি সময় দিতে পারবে সবকিছু ঠিক রেখেই এবং তাতে আপনার হার্ট অ্যাটাক হবার কোন সম্ভাবনা থাকবে না কারন আপনি জানেন আপনার ছেলে/ মেয়ে তার স্ত্রী বা স্বামীর সাথেই আছে। আমার ফ্রেণ্ড লিস্টে গার্ডিয়ান লেভেলের মানুষ খুব কম। কিন্তু বড় ভাই-বোন লেভেলের মানুষ আছেন অনেক। আশা করি ফ্যামিলি লেভেলে ডিসিশন নেবার সময় কথাগুলো একবার ভেবে দেখবেন।একটু ভেবে দেখেন, এই বয়সে আপনার ডিসিশনের কারনে বিয়ে না করে যে ছেলেটা বা মেয়েটা বছরের পর বছর ধরে গুনাহ করে যাবে, এগুলোর হিসাব আপনাকেই হাশরের ময়দানে চুকাতে হবে। তখন কাকে কৈফিয়ত দেবেন?(ফেসবুক থেকে সংগ্রহিত একটি রম্য পোস্ট)'"
            ],
            "application/vnd.google.colaboratory.intrinsic+json": {
              "type": "string"
            }
          },
          "metadata": {},
          "execution_count": 19
        }
      ]
    },
    {
      "cell_type": "code",
      "source": [
        "output = randaug.remove_random_word(a_sent)"
      ],
      "metadata": {
        "id": "oeo72BEvJ2Uh"
      },
      "execution_count": null,
      "outputs": []
    },
    {
      "cell_type": "code",
      "source": [
        "output"
      ],
      "metadata": {
        "colab": {
          "base_uri": "https://localhost:8080/",
          "height": 122
        },
        "id": "w8jvvoKFJ8CH",
        "outputId": "d29196b4-46e8-4d8c-cbc6-80f619c4877c"
      },
      "execution_count": null,
      "outputs": [
        {
          "output_type": "execute_result",
          "data": {
            "text/plain": [
              "'যে কারণে ছেলেদের বাল্যবিবাহ দেয়া উচিত !। ছেলের বয়স ২৩, ছেলেকে বিয়ে দিচ্ছেন না, কারণ আপনার ধারনা ছেলে এখনও ছোট। আপনার কাছে ছেলে অবশ্যই ছোট । কিন্তু নিজে জানে, সে আসলে কতটা বড় হয়ে গেছে । সে এটা আপনাকে বিস্তারিত বলতে পারে না। বলতে গেলে আপনার চাইতে সেই লজ্জা বেশি পাবে।আপনি বলতে পারেন ছেলে বিয়ে করলে বউকে খাওয়াবে কি? প্রশ্ন হচ্ছে, যে মেয়েটাকে সে এখন বিয়ে করার কথা ভাবছে, সে কি তাহলে এত বছর না খেয়ে ছিল?? বিয়ে যদি আরও পাচ বছর পরও হয়, মেয়ে কি না খেয়ে থাকবে? মেয়ে যদি বিয়ে ছাড়া কোন ভাবেই না খেয়ে না থাকে তাহলে শুধু বিয়েটা পড়ানোর পরেই কেন খাওয়ার চিন্তা আসবে?? মেয়ে তার বাপের কাছে থাকুক, ছেলের যখন সামর্থ্য হবে মেয়েকে নিয়ে আসবে নিজের কাছে। এখন দেখা যাক বাল্যবিবাহ এর অ্যাডভান্টেজ ডিসঅ্যাডভান্টেজ গুলা।অ্যাডভান্টেজঃছেলের জীবনে টেনশন জাস্ট অর্ধেক হয়ে যাবে। তার বিয়ে হয়েছে মানে তার “গার্লফ্রেণ্ডের বিয়ে হয়ে যাবে” রোজ রোজ এই দুশ্চিন্তা করতে হবে না।বিয়ের পরে মানুষ গোছালো হয়। এই বয়সের ছেলেরা অত্যন্ত অগোছালো হয়ে অপেক্ষায় থাকে কেউ একজন এসে তার জীবনটাকে গুছিয়ে দিয়ে যাবে ভেবে। একজন স্ত্রী ছাড়া কোন গার্লফ্রেণ্ডের পক্ষে এটা সম্ভব না।ডেটিংয়ের পেছনে যা খরচ হত, তা দিয়ে তারা দুজন বিয়ের পর দিব্যি প্রেম করে যেতে পারবে, কারও গুনাহ হবে না।পর্ন নামক জিনিসটার বাজারদরে ভাটার টান পড়বে। মুসলিম দেশগুলাতে পর্নের এত রমরমা কাটতির কারন কি জানেন? মুসলিমদের জন্য এক্সট্রা ম্যারিটাল সেক্স নিষিদ্ধ। তরুন বয়সীরা যখন জৈবিক চাহিদা বৈধ ভাবে মেটানোর সুযোগ না পায়, তখন তারা আলটিমেটলি বিকৃত উপায়ের দিকে আরও বেশি ঝুকতে থাকে। এই জিনিস কোনক্রমেই আপনি রুখতে পারবেন না। এগুলো হল একটা পানির স্রোতের মত, কোননা কোন দিকে তা গড়াবেই।আপনি নিজে স্ট্রেস ফ্রি থাকবেন। ছেলে কই কার সাথে কি করছে তা দেখার ভারটা ছেলের বউই তখন নিতে পারবে।ছেলে ও মেয়ে দুজনেই তখন স্যাক্রিফাইস করা শিখবে। এই শিক্ষাটা না থাকায় এখন দিনকে দিন মানুষের জীবন কঠিন হয়ে যাচ্ছে। এবার ডিসঅ্যাডভান্টেজের হিসেবে আসি –কিছু পয়সা পাতি খরচ হতে পারে।লোকে বাল্যবিবাহ বলে বদনাম করতে পারে।ছেলে-মেয়ে দুজনেই ৬-৮ মাস পড়াশোনাতে একটু ঢিল দিতে পারে।আপনি যদি মোবাইল কোম্পানির মালিক হন তাহলে এটা আপনার ব্যবসার জন্য ক্ষতিকর।যদি আপনি পর্ন ইণ্ডাস্ট্রির মালিক হন তাইলে এটা আপনার জন্য ক্ষতিকর।ছেলে হয়তো পুরোপুরি আপনার কন্ট্রোলে নাও থাকতে পারে। এটা নির্ভর করে ছেলের ব্যক্তিত্বের ওপর। সারা জীবন তাকে কি শিখালেন তার ওপর। তাকে চামচামি শিখালে সে আলটিমেটলি চামচামিই করবে, তা হোক বউয়ের বা মায়ের চামচামি। যদি পুরুষ হিসেবে গড়ে তুলতে পারেন তো কিভাবে বউ-মা দুজনকে এক সাথে হ্যাণ্ডল করতে হয় সেটা সে দেখবে, যদি আপনারা ঠিক থাকতে চান।এখন আমাদের অভিভাবকদের এই মেসেজটা দেয়ার সময় হয়েছে, তারা ঠিক করুক তারা কি চায়। তারা যদি চায় আগামী পাঁচ ছয় বছর ছেলে দিনে ডেট আর রাতে মাস্টার বেট করে কাটাক এবং মানসিক বিকৃতির শিকার হোক, তবু সমাজের চোখে তার মুখ রক্ষা করুক, তবে তারা আগের সিদ্ধান্তেই অটল থাকতে পারেন।যদি তা না চান, তবে একটু সাহস করে আল্লাহর ওপর ভরসা করে বিয়েটা করিয়ে দিতে পারেন। ছেলে-মেয়ে সবাই এখন রোজগার করতে পারে। বিয়ে করার কারনে কেউ না খেয়ে মরবে না। মোস্ট ইম্পর্ট্যান্টলি, দুজন তখন প্রেমের অনিশ্চয়তা থেকে মুক্ত হয়ে ঠাণ্ডা মাথায় ক্যারিয়ারের হিসেবটা কষতে পারবে, একজন আরেকজনকে আরও বেশি সময় দিতে পারবে সবকিছু ঠিক রেখেই এবং তাতে আপনার হার্ট অ্যাটাক হবার কোন সম্ভাবনা থাকবে না কারন আপনি জানেন আপনার ছেলে/ মেয়ে তার স্ত্রী বা স্বামীর সাথেই আছে। আমার ফ্রেণ্ড লিস্টে গার্ডিয়ান লেভেলের মানুষ খুব কম। কিন্তু বড় ভাই-বোন লেভেলের মানুষ আছেন অনেক। আশা করি ফ্যামিলি লেভেলে ডিসিশন নেবার সময় কথাগুলো একবার ভেবে দেখবেন।একটু ভেবে দেখেন, এই বয়সে আপনার ডিসিশনের কারনে বিয়ে না করে যে ছেলেটা বা মেয়েটা বছরের পর বছর ধরে গুনাহ করে যাবে, এগুলোর হিসাব আপনাকেই হাশরের ময়দানে চুকাতে হবে। তখন কাকে কৈফিয়ত দেবেন?(ফেসবুক থেকে সংগ্রহিত একটি রম্য পোস্ট)'"
            ],
            "application/vnd.google.colaboratory.intrinsic+json": {
              "type": "string"
            }
          },
          "metadata": {},
          "execution_count": 26
        }
      ]
    },
    {
      "cell_type": "code",
      "source": [
        "l_split_sents = split_sent_daari(a_sent)"
      ],
      "metadata": {
        "id": "sgB2mR7Snh3Z"
      },
      "execution_count": null,
      "outputs": []
    },
    {
      "cell_type": "code",
      "source": [
        "l_split_sents"
      ],
      "metadata": {
        "colab": {
          "base_uri": "https://localhost:8080/"
        },
        "id": "QXOdY2Acpwcj",
        "outputId": "3ed82e5b-4301-488b-d847-5cc2b63e3dac"
      },
      "execution_count": null,
      "outputs": [
        {
          "output_type": "execute_result",
          "data": {
            "text/plain": [
              "['যে কারণে ছেলেদের বাল্যবিবাহ দেয়া উচিত !',\n",
              " 'ছেলের বয়স ২৩, ছেলেকে বিয়ে দিচ্ছেন না, কারণ আপনার ধারনা ছেলে এখনও ছোট',\n",
              " 'আপনার কাছে ছেলে অবশ্যই ছোট ',\n",
              " 'কিন্তু সে নিজে জানে, সে আসলে কতটা বড় হয়ে গেছে ',\n",
              " 'সে এটা আপনাকে বিস্তারিত বলতে পারে না',\n",
              " 'বলতে গেলে আপনার চাইতে সেই লজ্জা বেশি পাবে।আপনি বলতে পারেন ছেলে বিয়ে করলে বউকে খাওয়াবে কি? প্রশ্ন হচ্ছে, যে মেয়েটাকে সে এখন বিয়ে করার কথা ভাবছে, সে কি তাহলে এত বছর না খেয়ে ছিল?? বিয়ে যদি আরও পাচ বছর পরও হয়, মেয়ে কি না খেয়ে থাকবে? মেয়ে যদি বিয়ে ছাড়া কোন ভাবেই না খেয়ে না থাকে তাহলে শুধু বিয়েটা পড়ানোর পরেই কেন খাওয়ার চিন্তা আসবে?? মেয়ে তার বাপের কাছে থাকুক, ছেলের যখন সামর্থ্য হবে মেয়েকে নিয়ে আসবে নিজের কাছে',\n",
              " 'এখন দেখা যাক বাল্যবিবাহ এর অ্যাডভান্টেজ ডিসঅ্যাডভান্টেজ গুলা।অ্যাডভান্টেজঃছেলের জীবনে টেনশন জাস্ট অর্ধেক হয়ে যাবে',\n",
              " 'তার বিয়ে হয়েছে মানে তার “গার্লফ্রেণ্ডের বিয়ে হয়ে যাবে” রোজ রোজ এই দুশ্চিন্তা করতে হবে না।বিয়ের পরে মানুষ গোছালো হয়',\n",
              " 'এই বয়সের ছেলেরা অত্যন্ত অগোছালো হয়ে অপেক্ষায় থাকে কেউ একজন এসে তার জীবনটাকে গুছিয়ে দিয়ে যাবে ভেবে',\n",
              " 'একজন স্ত্রী ছাড়া কোন গার্লফ্রেণ্ডের পক্ষে এটা সম্ভব না।ডেটিংয়ের পেছনে যা খরচ হত, তা দিয়ে তারা দুজন বিয়ের পর দিব্যি প্রেম করে যেতে পারবে, কারও গুনাহ হবে না।পর্ন নামক জিনিসটার বাজারদরে ভাটার টান পড়বে',\n",
              " 'মুসলিম দেশগুলাতে পর্নের এত রমরমা কাটতির কারন কি জানেন? মুসলিমদের জন্য এক্সট্রা ম্যারিটাল সেক্স নিষিদ্ধ',\n",
              " 'তরুন বয়সীরা যখন জৈবিক চাহিদা বৈধ ভাবে মেটানোর সুযোগ না পায়, তখন তারা আলটিমেটলি বিকৃত উপায়ের দিকে আরও বেশি ঝুকতে থাকে',\n",
              " 'এই জিনিস কোনক্রমেই আপনি রুখতে পারবেন না',\n",
              " 'এগুলো হল একটা পানির স্রোতের মত, কোননা কোন দিকে তা গড়াবেই।আপনি নিজে স্ট্রেস ফ্রি থাকবেন',\n",
              " 'ছেলে কই কার সাথে কি করছে তা দেখার ভারটা ছেলের বউই তখন নিতে পারবে।ছেলে ও মেয়ে দুজনেই তখন স্যাক্রিফাইস করা শিখবে',\n",
              " 'এই শিক্ষাটা না থাকায় এখন দিনকে দিন মানুষের জীবন কঠিন হয়ে যাচ্ছে',\n",
              " 'এবার ডিসঅ্যাডভান্টেজের হিসেবে আসি –কিছু পয়সা পাতি খরচ হতে পারে।লোকে বাল্যবিবাহ বলে বদনাম করতে পারে।ছেলে-মেয়ে দুজনেই ৬-৮ মাস পড়াশোনাতে একটু ঢিল দিতে পারে।আপনি যদি মোবাইল কোম্পানির মালিক হন তাহলে এটা আপনার ব্যবসার জন্য ক্ষতিকর।যদি আপনি পর্ন ইণ্ডাস্ট্রির মালিক হন তাইলে এটা আপনার জন্য ক্ষতিকর।ছেলে হয়তো পুরোপুরি আপনার কন্ট্রোলে নাও থাকতে পারে',\n",
              " 'এটা নির্ভর করে ছেলের ব্যক্তিত্বের ওপর',\n",
              " 'সারা জীবন তাকে কি শিখালেন তার ওপর',\n",
              " 'তাকে চামচামি শিখালে সে আলটিমেটলি চামচামিই করবে, তা হোক বউয়ের বা মায়ের চামচামি',\n",
              " 'যদি পুরুষ হিসেবে গড়ে তুলতে পারেন তো কিভাবে বউ-মা দুজনকে এক সাথে হ্যাণ্ডল করতে হয় সেটা সে দেখবে, যদি আপনারা ঠিক থাকতে চান।এখন আমাদের অভিভাবকদের এই মেসেজটা দেয়ার সময় হয়েছে, তারা ঠিক করুক তারা কি চায়',\n",
              " 'তারা যদি চায় আগামী পাঁচ ছয় বছর ছেলে দিনে ডেট আর রাতে মাস্টার বেট করে কাটাক এবং মানসিক বিকৃতির শিকার হোক, তবু সমাজের চোখে তার মুখ রক্ষা করুক, তবে তারা আগের সিদ্ধান্তেই অটল থাকতে পারেন।যদি তা না চান, তবে একটু সাহস করে আল্লাহর ওপর ভরসা করে বিয়েটা করিয়ে দিতে পারেন',\n",
              " 'ছেলে-মেয়ে সবাই এখন রোজগার করতে পারে',\n",
              " 'বিয়ে করার কারনে কেউ না খেয়ে মরবে না',\n",
              " 'মোস্ট ইম্পর্ট্যান্টলি, দুজন তখন প্রেমের অনিশ্চয়তা থেকে মুক্ত হয়ে ঠাণ্ডা মাথায় ক্যারিয়ারের হিসেবটা কষতে পারবে, একজন আরেকজনকে আরও বেশি সময় দিতে পারবে সবকিছু ঠিক রেখেই এবং তাতে আপনার হার্ট অ্যাটাক হবার কোন সম্ভাবনা থাকবে না কারন আপনি জানেন আপনার ছেলে/ মেয়ে তার স্ত্রী বা স্বামীর সাথেই আছে',\n",
              " 'আমার ফ্রেণ্ড লিস্টে গার্ডিয়ান লেভেলের মানুষ খুব কম',\n",
              " 'কিন্তু বড় ভাই-বোন লেভেলের মানুষ আছেন অনেক',\n",
              " 'আশা করি ফ্যামিলি লেভেলে ডিসিশন নেবার সময় কথাগুলো একবার ভেবে দেখবেন।একটু ভেবে দেখেন, এই বয়সে আপনার ডিসিশনের কারনে বিয়ে না করে যে ছেলেটা বা মেয়েটা বছরের পর বছর ধরে গুনাহ করে যাবে, এগুলোর হিসাব আপনাকেই হাশরের ময়দানে চুকাতে হবে',\n",
              " 'তখন কাকে কৈফিয়ত দেবেন?(ফেসবুক থেকে সংগ্রহিত একটি রম্য পোস্ট)']"
            ]
          },
          "metadata": {},
          "execution_count": 28
        }
      ]
    },
    {
      "cell_type": "code",
      "source": [
        "#individually backtranslate each sentences\n",
        "for i in range(len(l_split_sents)):\n",
        "  l_split_sents[i] = randaug.remove_random_word(l_split_sents[i])\n"
      ],
      "metadata": {
        "id": "uN_tjwZckWuA"
      },
      "execution_count": null,
      "outputs": []
    },
    {
      "cell_type": "code",
      "source": [
        "l_split_sents"
      ],
      "metadata": {
        "colab": {
          "base_uri": "https://localhost:8080/"
        },
        "id": "chnWOATpo5Lh",
        "outputId": "1ec3dce4-4405-4183-cf50-d41f8a522f38"
      },
      "execution_count": null,
      "outputs": [
        {
          "output_type": "execute_result",
          "data": {
            "text/plain": [
              "['কারণে ছেলেদের বাল্যবিবাহ দেয়া উচিত !',\n",
              " 'ছেলের বয়স ২৩, ছেলেকে বিয়ে দিচ্ছেন না, কারণ ধারনা ছেলে এখনও ছোট',\n",
              " 'আপনার কাছে ছেলে ছোট',\n",
              " 'কিন্তু সে নিজে জানে, সে আসলে বড় হয়ে গেছে',\n",
              " 'এটা আপনাকে বিস্তারিত বলতে পারে না',\n",
              " 'বলতে গেলে আপনার চাইতে সেই লজ্জা বেশি পাবে।আপনি বলতে পারেন ছেলে বিয়ে করলে বউকে খাওয়াবে কি? প্রশ্ন হচ্ছে, যে মেয়েটাকে সে এখন বিয়ে করার কথা ভাবছে, সে কি তাহলে এত বছর না খেয়ে ছিল?? বিয়ে আরও পাচ বছর পরও হয়, মেয়ে কি না খেয়ে থাকবে? মেয়ে যদি বিয়ে ছাড়া কোন ভাবেই না খেয়ে না থাকে তাহলে শুধু বিয়েটা পড়ানোর পরেই কেন খাওয়ার চিন্তা আসবে?? মেয়ে তার বাপের কাছে থাকুক, ছেলের যখন সামর্থ্য হবে মেয়েকে নিয়ে আসবে নিজের কাছে',\n",
              " 'এখন দেখা যাক বাল্যবিবাহ এর অ্যাডভান্টেজ ডিসঅ্যাডভান্টেজ গুলা।অ্যাডভান্টেজঃছেলের জীবনে টেনশন জাস্ট অর্ধেক যাবে',\n",
              " 'তার বিয়ে হয়েছে মানে তার “গার্লফ্রেণ্ডের বিয়ে হয়ে রোজ রোজ এই দুশ্চিন্তা করতে হবে না।বিয়ের পরে মানুষ গোছালো হয়',\n",
              " 'এই বয়সের ছেলেরা অত্যন্ত অগোছালো হয়ে অপেক্ষায় থাকে কেউ একজন এসে জীবনটাকে গুছিয়ে দিয়ে যাবে ভেবে',\n",
              " 'একজন স্ত্রী ছাড়া কোন গার্লফ্রেণ্ডের এটা সম্ভব না।ডেটিংয়ের পেছনে যা খরচ হত, তা দিয়ে তারা দুজন বিয়ের পর দিব্যি প্রেম করে যেতে পারবে, কারও গুনাহ হবে না।পর্ন নামক জিনিসটার বাজারদরে ভাটার টান পড়বে',\n",
              " 'দেশগুলাতে পর্নের এত রমরমা কাটতির কারন কি জানেন? মুসলিমদের জন্য এক্সট্রা ম্যারিটাল সেক্স নিষিদ্ধ',\n",
              " 'তরুন বয়সীরা যখন জৈবিক চাহিদা বৈধ ভাবে মেটানোর সুযোগ না পায়, তখন আলটিমেটলি বিকৃত উপায়ের দিকে আরও বেশি ঝুকতে থাকে',\n",
              " 'এই কোনক্রমেই আপনি রুখতে পারবেন না',\n",
              " 'এগুলো হল একটা পানির স্রোতের মত, কোননা কোন দিকে তা গড়াবেই।আপনি নিজে স্ট্রেস ফ্রি',\n",
              " 'ছেলে কই কার সাথে কি করছে তা দেখার ভারটা ছেলের তখন নিতে পারবে।ছেলে ও মেয়ে দুজনেই তখন স্যাক্রিফাইস করা শিখবে',\n",
              " 'এই শিক্ষাটা না থাকায় এখন দিনকে দিন মানুষের জীবন কঠিন হয়ে',\n",
              " 'এবার ডিসঅ্যাডভান্টেজের হিসেবে আসি –কিছু পয়সা পাতি খরচ হতে পারে।লোকে বাল্যবিবাহ বলে বদনাম করতে দুজনেই ৬-৮ মাস পড়াশোনাতে একটু ঢিল দিতে পারে।আপনি যদি মোবাইল কোম্পানির মালিক হন তাহলে এটা আপনার ব্যবসার জন্য ক্ষতিকর।যদি আপনি পর্ন ইণ্ডাস্ট্রির মালিক হন তাইলে এটা আপনার জন্য ক্ষতিকর।ছেলে হয়তো পুরোপুরি আপনার কন্ট্রোলে নাও থাকতে পারে',\n",
              " 'এটা নির্ভর ছেলের ব্যক্তিত্বের ওপর',\n",
              " 'সারা তাকে কি শিখালেন তার ওপর',\n",
              " 'তাকে চামচামি শিখালে সে আলটিমেটলি চামচামিই তা হোক বউয়ের বা মায়ের চামচামি',\n",
              " 'যদি পুরুষ হিসেবে গড়ে পারেন তো কিভাবে বউ-মা দুজনকে এক সাথে হ্যাণ্ডল করতে হয় সেটা সে দেখবে, যদি আপনারা ঠিক থাকতে চান।এখন আমাদের অভিভাবকদের এই মেসেজটা দেয়ার সময় হয়েছে, তারা ঠিক করুক তারা কি চায়',\n",
              " 'তারা যদি চায় আগামী পাঁচ ছয় বছর ছেলে দিনে ডেট আর রাতে মাস্টার বেট করে কাটাক এবং মানসিক বিকৃতির শিকার হোক, তবু সমাজের চোখে তার মুখ রক্ষা করুক, তবে তারা আগের সিদ্ধান্তেই অটল থাকতে পারেন।যদি তা না চান, তবে একটু সাহস করে আল্লাহর ওপর ভরসা করে বিয়েটা করিয়ে দিতে',\n",
              " 'ছেলে-মেয়ে সবাই এখন রোজগার পারে',\n",
              " 'বিয়ে করার কারনে না খেয়ে মরবে না',\n",
              " 'মোস্ট ইম্পর্ট্যান্টলি, তখন প্রেমের অনিশ্চয়তা থেকে মুক্ত হয়ে ঠাণ্ডা মাথায় ক্যারিয়ারের হিসেবটা কষতে পারবে, একজন আরেকজনকে আরও বেশি সময় দিতে পারবে সবকিছু ঠিক রেখেই এবং তাতে আপনার হার্ট অ্যাটাক হবার কোন সম্ভাবনা থাকবে না কারন আপনি জানেন আপনার ছেলে/ মেয়ে তার স্ত্রী বা স্বামীর সাথেই আছে',\n",
              " 'আমার ফ্রেণ্ড লিস্টে গার্ডিয়ান মানুষ খুব কম',\n",
              " 'কিন্তু বড় লেভেলের মানুষ আছেন অনেক',\n",
              " 'আশা করি ফ্যামিলি লেভেলে ডিসিশন নেবার সময় কথাগুলো একবার ভেবে দেখবেন।একটু ভেবে দেখেন, এই বয়সে আপনার ডিসিশনের কারনে বিয়ে না করে যে ছেলেটা বা মেয়েটা বছরের পর বছর ধরে গুনাহ করে যাবে, এগুলোর হিসাব আপনাকেই হাশরের ময়দানে হবে',\n",
              " 'তখন কাকে কৈফিয়ত দেবেন?(ফেসবুক থেকে সংগ্রহিত একটি রম্য']"
            ]
          },
          "metadata": {},
          "execution_count": 31
        }
      ]
    },
    {
      "cell_type": "code",
      "source": [
        "#original sentence\n",
        "a_sent"
      ],
      "metadata": {
        "colab": {
          "base_uri": "https://localhost:8080/",
          "height": 122
        },
        "id": "ZhKAZv_DqxCk",
        "outputId": "a05bbb52-7732-4b2e-8291-72eb2a8c9878"
      },
      "execution_count": null,
      "outputs": [
        {
          "output_type": "execute_result",
          "data": {
            "text/plain": [
              "'যে কারণে ছেলেদের বাল্যবিবাহ দেয়া উচিত !। ছেলের বয়স ২৩, ছেলেকে বিয়ে দিচ্ছেন না, কারণ আপনার ধারনা ছেলে এখনও ছোট। আপনার কাছে ছেলে অবশ্যই ছোট । কিন্তু সে নিজে জানে, সে আসলে কতটা বড় হয়ে গেছে । সে এটা আপনাকে বিস্তারিত বলতে পারে না। বলতে গেলে আপনার চাইতে সেই লজ্জা বেশি পাবে।আপনি বলতে পারেন ছেলে বিয়ে করলে বউকে খাওয়াবে কি? প্রশ্ন হচ্ছে, যে মেয়েটাকে সে এখন বিয়ে করার কথা ভাবছে, সে কি তাহলে এত বছর না খেয়ে ছিল?? বিয়ে যদি আরও পাচ বছর পরও হয়, মেয়ে কি না খেয়ে থাকবে? মেয়ে যদি বিয়ে ছাড়া কোন ভাবেই না খেয়ে না থাকে তাহলে শুধু বিয়েটা পড়ানোর পরেই কেন খাওয়ার চিন্তা আসবে?? মেয়ে তার বাপের কাছে থাকুক, ছেলের যখন সামর্থ্য হবে মেয়েকে নিয়ে আসবে নিজের কাছে। এখন দেখা যাক বাল্যবিবাহ এর অ্যাডভান্টেজ ডিসঅ্যাডভান্টেজ গুলা।অ্যাডভান্টেজঃছেলের জীবনে টেনশন জাস্ট অর্ধেক হয়ে যাবে। তার বিয়ে হয়েছে মানে তার “গার্লফ্রেণ্ডের বিয়ে হয়ে যাবে” রোজ রোজ এই দুশ্চিন্তা করতে হবে না।বিয়ের পরে মানুষ গোছালো হয়। এই বয়সের ছেলেরা অত্যন্ত অগোছালো হয়ে অপেক্ষায় থাকে কেউ একজন এসে তার জীবনটাকে গুছিয়ে দিয়ে যাবে ভেবে। একজন স্ত্রী ছাড়া কোন গার্লফ্রেণ্ডের পক্ষে এটা সম্ভব না।ডেটিংয়ের পেছনে যা খরচ হত, তা দিয়ে তারা দুজন বিয়ের পর দিব্যি প্রেম করে যেতে পারবে, কারও গুনাহ হবে না।পর্ন নামক জিনিসটার বাজারদরে ভাটার টান পড়বে। মুসলিম দেশগুলাতে পর্নের এত রমরমা কাটতির কারন কি জানেন? মুসলিমদের জন্য এক্সট্রা ম্যারিটাল সেক্স নিষিদ্ধ। তরুন বয়সীরা যখন জৈবিক চাহিদা বৈধ ভাবে মেটানোর সুযোগ না পায়, তখন তারা আলটিমেটলি বিকৃত উপায়ের দিকে আরও বেশি ঝুকতে থাকে। এই জিনিস কোনক্রমেই আপনি রুখতে পারবেন না। এগুলো হল একটা পানির স্রোতের মত, কোননা কোন দিকে তা গড়াবেই।আপনি নিজে স্ট্রেস ফ্রি থাকবেন। ছেলে কই কার সাথে কি করছে তা দেখার ভারটা ছেলের বউই তখন নিতে পারবে।ছেলে ও মেয়ে দুজনেই তখন স্যাক্রিফাইস করা শিখবে। এই শিক্ষাটা না থাকায় এখন দিনকে দিন মানুষের জীবন কঠিন হয়ে যাচ্ছে। এবার ডিসঅ্যাডভান্টেজের হিসেবে আসি –কিছু পয়সা পাতি খরচ হতে পারে।লোকে বাল্যবিবাহ বলে বদনাম করতে পারে।ছেলে-মেয়ে দুজনেই ৬-৮ মাস পড়াশোনাতে একটু ঢিল দিতে পারে।আপনি যদি মোবাইল কোম্পানির মালিক হন তাহলে এটা আপনার ব্যবসার জন্য ক্ষতিকর।যদি আপনি পর্ন ইণ্ডাস্ট্রির মালিক হন তাইলে এটা আপনার জন্য ক্ষতিকর।ছেলে হয়তো পুরোপুরি আপনার কন্ট্রোলে নাও থাকতে পারে। এটা নির্ভর করে ছেলের ব্যক্তিত্বের ওপর। সারা জীবন তাকে কি শিখালেন তার ওপর। তাকে চামচামি শিখালে সে আলটিমেটলি চামচামিই করবে, তা হোক বউয়ের বা মায়ের চামচামি। যদি পুরুষ হিসেবে গড়ে তুলতে পারেন তো কিভাবে বউ-মা দুজনকে এক সাথে হ্যাণ্ডল করতে হয় সেটা সে দেখবে, যদি আপনারা ঠিক থাকতে চান।এখন আমাদের অভিভাবকদের এই মেসেজটা দেয়ার সময় হয়েছে, তারা ঠিক করুক তারা কি চায়। তারা যদি চায় আগামী পাঁচ ছয় বছর ছেলে দিনে ডেট আর রাতে মাস্টার বেট করে কাটাক এবং মানসিক বিকৃতির শিকার হোক, তবু সমাজের চোখে তার মুখ রক্ষা করুক, তবে তারা আগের সিদ্ধান্তেই অটল থাকতে পারেন।যদি তা না চান, তবে একটু সাহস করে আল্লাহর ওপর ভরসা করে বিয়েটা করিয়ে দিতে পারেন। ছেলে-মেয়ে সবাই এখন রোজগার করতে পারে। বিয়ে করার কারনে কেউ না খেয়ে মরবে না। মোস্ট ইম্পর্ট্যান্টলি, দুজন তখন প্রেমের অনিশ্চয়তা থেকে মুক্ত হয়ে ঠাণ্ডা মাথায় ক্যারিয়ারের হিসেবটা কষতে পারবে, একজন আরেকজনকে আরও বেশি সময় দিতে পারবে সবকিছু ঠিক রেখেই এবং তাতে আপনার হার্ট অ্যাটাক হবার কোন সম্ভাবনা থাকবে না কারন আপনি জানেন আপনার ছেলে/ মেয়ে তার স্ত্রী বা স্বামীর সাথেই আছে। আমার ফ্রেণ্ড লিস্টে গার্ডিয়ান লেভেলের মানুষ খুব কম। কিন্তু বড় ভাই-বোন লেভেলের মানুষ আছেন অনেক। আশা করি ফ্যামিলি লেভেলে ডিসিশন নেবার সময় কথাগুলো একবার ভেবে দেখবেন।একটু ভেবে দেখেন, এই বয়সে আপনার ডিসিশনের কারনে বিয়ে না করে যে ছেলেটা বা মেয়েটা বছরের পর বছর ধরে গুনাহ করে যাবে, এগুলোর হিসাব আপনাকেই হাশরের ময়দানে চুকাতে হবে। তখন কাকে কৈফিয়ত দেবেন?(ফেসবুক থেকে সংগ্রহিত একটি রম্য পোস্ট)'"
            ],
            "application/vnd.google.colaboratory.intrinsic+json": {
              "type": "string"
            }
          },
          "metadata": {},
          "execution_count": 32
        }
      ]
    },
    {
      "cell_type": "code",
      "source": [
        "#join all sentences to make one single string\n",
        "result = ''.join(''.join(l) for l in l_split_sents) #nested join\n",
        "result"
      ],
      "metadata": {
        "colab": {
          "base_uri": "https://localhost:8080/",
          "height": 122
        },
        "id": "RUVVlffuo7HS",
        "outputId": "37ca9548-31b7-443f-f178-c2a2a697f917"
      },
      "execution_count": null,
      "outputs": [
        {
          "output_type": "execute_result",
          "data": {
            "text/plain": [
              "'কারণে ছেলেদের বাল্যবিবাহ দেয়া উচিত !ছেলের বয়স ২৩, ছেলেকে বিয়ে দিচ্ছেন না, কারণ ধারনা ছেলে এখনও ছোটআপনার কাছে ছেলে ছোটকিন্তু সে নিজে জানে, সে আসলে বড় হয়ে গেছেএটা আপনাকে বিস্তারিত বলতে পারে নাবলতে গেলে আপনার চাইতে সেই লজ্জা বেশি পাবে।আপনি বলতে পারেন ছেলে বিয়ে করলে বউকে খাওয়াবে কি? প্রশ্ন হচ্ছে, যে মেয়েটাকে সে এখন বিয়ে করার কথা ভাবছে, সে কি তাহলে এত বছর না খেয়ে ছিল?? বিয়ে আরও পাচ বছর পরও হয়, মেয়ে কি না খেয়ে থাকবে? মেয়ে যদি বিয়ে ছাড়া কোন ভাবেই না খেয়ে না থাকে তাহলে শুধু বিয়েটা পড়ানোর পরেই কেন খাওয়ার চিন্তা আসবে?? মেয়ে তার বাপের কাছে থাকুক, ছেলের যখন সামর্থ্য হবে মেয়েকে নিয়ে আসবে নিজের কাছেএখন দেখা যাক বাল্যবিবাহ এর অ্যাডভান্টেজ ডিসঅ্যাডভান্টেজ গুলা।অ্যাডভান্টেজঃছেলের জীবনে টেনশন জাস্ট অর্ধেক যাবেতার বিয়ে হয়েছে মানে তার “গার্লফ্রেণ্ডের বিয়ে হয়ে রোজ রোজ এই দুশ্চিন্তা করতে হবে না।বিয়ের পরে মানুষ গোছালো হয়এই বয়সের ছেলেরা অত্যন্ত অগোছালো হয়ে অপেক্ষায় থাকে কেউ একজন এসে জীবনটাকে গুছিয়ে দিয়ে যাবে ভেবেএকজন স্ত্রী ছাড়া কোন গার্লফ্রেণ্ডের এটা সম্ভব না।ডেটিংয়ের পেছনে যা খরচ হত, তা দিয়ে তারা দুজন বিয়ের পর দিব্যি প্রেম করে যেতে পারবে, কারও গুনাহ হবে না।পর্ন নামক জিনিসটার বাজারদরে ভাটার টান পড়বেদেশগুলাতে পর্নের এত রমরমা কাটতির কারন কি জানেন? মুসলিমদের জন্য এক্সট্রা ম্যারিটাল সেক্স নিষিদ্ধতরুন বয়সীরা যখন জৈবিক চাহিদা বৈধ ভাবে মেটানোর সুযোগ না পায়, তখন আলটিমেটলি বিকৃত উপায়ের দিকে আরও বেশি ঝুকতে থাকেএই কোনক্রমেই আপনি রুখতে পারবেন নাএগুলো হল একটা পানির স্রোতের মত, কোননা কোন দিকে তা গড়াবেই।আপনি নিজে স্ট্রেস ফ্রিছেলে কই কার সাথে কি করছে তা দেখার ভারটা ছেলের তখন নিতে পারবে।ছেলে ও মেয়ে দুজনেই তখন স্যাক্রিফাইস করা শিখবেএই শিক্ষাটা না থাকায় এখন দিনকে দিন মানুষের জীবন কঠিন হয়েএবার ডিসঅ্যাডভান্টেজের হিসেবে আসি –কিছু পয়সা পাতি খরচ হতে পারে।লোকে বাল্যবিবাহ বলে বদনাম করতে দুজনেই ৬-৮ মাস পড়াশোনাতে একটু ঢিল দিতে পারে।আপনি যদি মোবাইল কোম্পানির মালিক হন তাহলে এটা আপনার ব্যবসার জন্য ক্ষতিকর।যদি আপনি পর্ন ইণ্ডাস্ট্রির মালিক হন তাইলে এটা আপনার জন্য ক্ষতিকর।ছেলে হয়তো পুরোপুরি আপনার কন্ট্রোলে নাও থাকতে পারেএটা নির্ভর ছেলের ব্যক্তিত্বের ওপরসারা তাকে কি শিখালেন তার ওপরতাকে চামচামি শিখালে সে আলটিমেটলি চামচামিই তা হোক বউয়ের বা মায়ের চামচামিযদি পুরুষ হিসেবে গড়ে পারেন তো কিভাবে বউ-মা দুজনকে এক সাথে হ্যাণ্ডল করতে হয় সেটা সে দেখবে, যদি আপনারা ঠিক থাকতে চান।এখন আমাদের অভিভাবকদের এই মেসেজটা দেয়ার সময় হয়েছে, তারা ঠিক করুক তারা কি চায়তারা যদি চায় আগামী পাঁচ ছয় বছর ছেলে দিনে ডেট আর রাতে মাস্টার বেট করে কাটাক এবং মানসিক বিকৃতির শিকার হোক, তবু সমাজের চোখে তার মুখ রক্ষা করুক, তবে তারা আগের সিদ্ধান্তেই অটল থাকতে পারেন।যদি তা না চান, তবে একটু সাহস করে আল্লাহর ওপর ভরসা করে বিয়েটা করিয়ে দিতেছেলে-মেয়ে সবাই এখন রোজগার পারেবিয়ে করার কারনে না খেয়ে মরবে নামোস্ট ইম্পর্ট্যান্টলি, তখন প্রেমের অনিশ্চয়তা থেকে মুক্ত হয়ে ঠাণ্ডা মাথায় ক্যারিয়ারের হিসেবটা কষতে পারবে, একজন আরেকজনকে আরও বেশি সময় দিতে পারবে সবকিছু ঠিক রেখেই এবং তাতে আপনার হার্ট অ্যাটাক হবার কোন সম্ভাবনা থাকবে না কারন আপনি জানেন আপনার ছেলে/ মেয়ে তার স্ত্রী বা স্বামীর সাথেই আছেআমার ফ্রেণ্ড লিস্টে গার্ডিয়ান মানুষ খুব কমকিন্তু বড় লেভেলের মানুষ আছেন অনেকআশা করি ফ্যামিলি লেভেলে ডিসিশন নেবার সময় কথাগুলো একবার ভেবে দেখবেন।একটু ভেবে দেখেন, এই বয়সে আপনার ডিসিশনের কারনে বিয়ে না করে যে ছেলেটা বা মেয়েটা বছরের পর বছর ধরে গুনাহ করে যাবে, এগুলোর হিসাব আপনাকেই হাশরের ময়দানে হবেতখন কাকে কৈফিয়ত দেবেন?(ফেসবুক থেকে সংগ্রহিত একটি রম্য'"
            ],
            "application/vnd.google.colaboratory.intrinsic+json": {
              "type": "string"
            }
          },
          "metadata": {},
          "execution_count": 33
        }
      ]
    },
    {
      "cell_type": "markdown",
      "source": [
        "###batch augment whole DS"
      ],
      "metadata": {
        "id": "5hY7bUxSt_yg"
      }
    },
    {
      "cell_type": "code",
      "source": [
        "split1.head()"
      ],
      "metadata": {
        "colab": {
          "base_uri": "https://localhost:8080/"
        },
        "id": "2k8dcFbvuMdz",
        "outputId": "c6db9a0d-4440-45b1-ec38-f2d87dbf76a8"
      },
      "execution_count": null,
      "outputs": [
        {
          "output_type": "execute_result",
          "data": {
            "text/plain": [
              "   articleID                    domain                        date  \\\n",
              "0          1         channeldhaka.news   2019-03-14T13:34:14+00:00   \n",
              "1          2                 earki.com            সেম্বর ১৭, ২০১৮    \n",
              "2          3                 earki.com  ২০:৩৯, জানুয়ারি ১৪, ২০১৯    \n",
              "3          4         channeldhaka.news   2018-06-30T15:56:47+00:00   \n",
              "4          5  motikontho.wordpress.com   2013-03-05T21:55:45+00:00   \n",
              "\n",
              "        category  label                                               text  \n",
              "0  International      0  মুরগির হামলায় শেয়াল নিহত। বাংলায় একটা প্রবাদ আ...  \n",
              "1  Miscellaneous      0  বিটিভিতে যেবার আমি ইন্টারভিউ দিতে গেলাম। BTV থ...  \n",
              "2  Miscellaneous      0  বিদেশ থেকে উন্নতমানের বিরোধীদল আমদানি করার পরা...  \n",
              "3         Sports      0  অবসর নেয়ার ঘোষণা দিলেন মেসি !। রাশিয়া বিশ্বকাপ...  \n",
              "4  Miscellaneous      0  মাদারফাকার নহে, ব্রাদারফাকার: সাকা | দৈনিক মতি...  "
            ],
            "text/html": [
              "\n",
              "  <div id=\"df-551e7c79-e5d9-43eb-9180-a6301cacb2f9\">\n",
              "    <div class=\"colab-df-container\">\n",
              "      <div>\n",
              "<style scoped>\n",
              "    .dataframe tbody tr th:only-of-type {\n",
              "        vertical-align: middle;\n",
              "    }\n",
              "\n",
              "    .dataframe tbody tr th {\n",
              "        vertical-align: top;\n",
              "    }\n",
              "\n",
              "    .dataframe thead th {\n",
              "        text-align: right;\n",
              "    }\n",
              "</style>\n",
              "<table border=\"1\" class=\"dataframe\">\n",
              "  <thead>\n",
              "    <tr style=\"text-align: right;\">\n",
              "      <th></th>\n",
              "      <th>articleID</th>\n",
              "      <th>domain</th>\n",
              "      <th>date</th>\n",
              "      <th>category</th>\n",
              "      <th>label</th>\n",
              "      <th>text</th>\n",
              "    </tr>\n",
              "  </thead>\n",
              "  <tbody>\n",
              "    <tr>\n",
              "      <th>0</th>\n",
              "      <td>1</td>\n",
              "      <td>channeldhaka.news</td>\n",
              "      <td>2019-03-14T13:34:14+00:00</td>\n",
              "      <td>International</td>\n",
              "      <td>0</td>\n",
              "      <td>মুরগির হামলায় শেয়াল নিহত। বাংলায় একটা প্রবাদ আ...</td>\n",
              "    </tr>\n",
              "    <tr>\n",
              "      <th>1</th>\n",
              "      <td>2</td>\n",
              "      <td>earki.com</td>\n",
              "      <td>সেম্বর ১৭, ২০১৮</td>\n",
              "      <td>Miscellaneous</td>\n",
              "      <td>0</td>\n",
              "      <td>বিটিভিতে যেবার আমি ইন্টারভিউ দিতে গেলাম। BTV থ...</td>\n",
              "    </tr>\n",
              "    <tr>\n",
              "      <th>2</th>\n",
              "      <td>3</td>\n",
              "      <td>earki.com</td>\n",
              "      <td>২০:৩৯, জানুয়ারি ১৪, ২০১৯</td>\n",
              "      <td>Miscellaneous</td>\n",
              "      <td>0</td>\n",
              "      <td>বিদেশ থেকে উন্নতমানের বিরোধীদল আমদানি করার পরা...</td>\n",
              "    </tr>\n",
              "    <tr>\n",
              "      <th>3</th>\n",
              "      <td>4</td>\n",
              "      <td>channeldhaka.news</td>\n",
              "      <td>2018-06-30T15:56:47+00:00</td>\n",
              "      <td>Sports</td>\n",
              "      <td>0</td>\n",
              "      <td>অবসর নেয়ার ঘোষণা দিলেন মেসি !। রাশিয়া বিশ্বকাপ...</td>\n",
              "    </tr>\n",
              "    <tr>\n",
              "      <th>4</th>\n",
              "      <td>5</td>\n",
              "      <td>motikontho.wordpress.com</td>\n",
              "      <td>2013-03-05T21:55:45+00:00</td>\n",
              "      <td>Miscellaneous</td>\n",
              "      <td>0</td>\n",
              "      <td>মাদারফাকার নহে, ব্রাদারফাকার: সাকা | দৈনিক মতি...</td>\n",
              "    </tr>\n",
              "  </tbody>\n",
              "</table>\n",
              "</div>\n",
              "      <button class=\"colab-df-convert\" onclick=\"convertToInteractive('df-551e7c79-e5d9-43eb-9180-a6301cacb2f9')\"\n",
              "              title=\"Convert this dataframe to an interactive table.\"\n",
              "              style=\"display:none;\">\n",
              "        \n",
              "  <svg xmlns=\"http://www.w3.org/2000/svg\" height=\"24px\"viewBox=\"0 0 24 24\"\n",
              "       width=\"24px\">\n",
              "    <path d=\"M0 0h24v24H0V0z\" fill=\"none\"/>\n",
              "    <path d=\"M18.56 5.44l.94 2.06.94-2.06 2.06-.94-2.06-.94-.94-2.06-.94 2.06-2.06.94zm-11 1L8.5 8.5l.94-2.06 2.06-.94-2.06-.94L8.5 2.5l-.94 2.06-2.06.94zm10 10l.94 2.06.94-2.06 2.06-.94-2.06-.94-.94-2.06-.94 2.06-2.06.94z\"/><path d=\"M17.41 7.96l-1.37-1.37c-.4-.4-.92-.59-1.43-.59-.52 0-1.04.2-1.43.59L10.3 9.45l-7.72 7.72c-.78.78-.78 2.05 0 2.83L4 21.41c.39.39.9.59 1.41.59.51 0 1.02-.2 1.41-.59l7.78-7.78 2.81-2.81c.8-.78.8-2.07 0-2.86zM5.41 20L4 18.59l7.72-7.72 1.47 1.35L5.41 20z\"/>\n",
              "  </svg>\n",
              "      </button>\n",
              "      \n",
              "  <style>\n",
              "    .colab-df-container {\n",
              "      display:flex;\n",
              "      flex-wrap:wrap;\n",
              "      gap: 12px;\n",
              "    }\n",
              "\n",
              "    .colab-df-convert {\n",
              "      background-color: #E8F0FE;\n",
              "      border: none;\n",
              "      border-radius: 50%;\n",
              "      cursor: pointer;\n",
              "      display: none;\n",
              "      fill: #1967D2;\n",
              "      height: 32px;\n",
              "      padding: 0 0 0 0;\n",
              "      width: 32px;\n",
              "    }\n",
              "\n",
              "    .colab-df-convert:hover {\n",
              "      background-color: #E2EBFA;\n",
              "      box-shadow: 0px 1px 2px rgba(60, 64, 67, 0.3), 0px 1px 3px 1px rgba(60, 64, 67, 0.15);\n",
              "      fill: #174EA6;\n",
              "    }\n",
              "\n",
              "    [theme=dark] .colab-df-convert {\n",
              "      background-color: #3B4455;\n",
              "      fill: #D2E3FC;\n",
              "    }\n",
              "\n",
              "    [theme=dark] .colab-df-convert:hover {\n",
              "      background-color: #434B5C;\n",
              "      box-shadow: 0px 1px 3px 1px rgba(0, 0, 0, 0.15);\n",
              "      filter: drop-shadow(0px 1px 2px rgba(0, 0, 0, 0.3));\n",
              "      fill: #FFFFFF;\n",
              "    }\n",
              "  </style>\n",
              "\n",
              "      <script>\n",
              "        const buttonEl =\n",
              "          document.querySelector('#df-551e7c79-e5d9-43eb-9180-a6301cacb2f9 button.colab-df-convert');\n",
              "        buttonEl.style.display =\n",
              "          google.colab.kernel.accessAllowed ? 'block' : 'none';\n",
              "\n",
              "        async function convertToInteractive(key) {\n",
              "          const element = document.querySelector('#df-551e7c79-e5d9-43eb-9180-a6301cacb2f9');\n",
              "          const dataTable =\n",
              "            await google.colab.kernel.invokeFunction('convertToInteractive',\n",
              "                                                     [key], {});\n",
              "          if (!dataTable) return;\n",
              "\n",
              "          const docLinkHtml = 'Like what you see? Visit the ' +\n",
              "            '<a target=\"_blank\" href=https://colab.research.google.com/notebooks/data_table.ipynb>data table notebook</a>'\n",
              "            + ' to learn more about interactive tables.';\n",
              "          element.innerHTML = '';\n",
              "          dataTable['output_type'] = 'display_data';\n",
              "          await google.colab.output.renderOutput(dataTable, element);\n",
              "          const docLink = document.createElement('div');\n",
              "          docLink.innerHTML = docLinkHtml;\n",
              "          element.appendChild(docLink);\n",
              "        }\n",
              "      </script>\n",
              "    </div>\n",
              "  </div>\n",
              "  "
            ]
          },
          "metadata": {},
          "execution_count": 35
        }
      ]
    },
    {
      "cell_type": "code",
      "source": [
        "len(split1)"
      ],
      "metadata": {
        "colab": {
          "base_uri": "https://localhost:8080/"
        },
        "id": "1mQlV94k7-b4",
        "outputId": "3a49c152-efcf-4801-fca2-c4f79d4fabb2"
      },
      "execution_count": null,
      "outputs": [
        {
          "output_type": "execute_result",
          "data": {
            "text/plain": [
              "1299"
            ]
          },
          "metadata": {},
          "execution_count": 36
        }
      ]
    },
    {
      "cell_type": "code",
      "source": [
        "for i in range(20,60):\n",
        "  if(1300%i)==0:\n",
        "    print(i)"
      ],
      "metadata": {
        "colab": {
          "base_uri": "https://localhost:8080/"
        },
        "id": "lIgZEw8A8FD5",
        "outputId": "0db0a6a0-8d5b-4e27-f55c-980acc0fa8aa"
      },
      "execution_count": null,
      "outputs": [
        {
          "output_type": "stream",
          "name": "stdout",
          "text": [
            "20\n",
            "25\n",
            "26\n",
            "50\n",
            "52\n"
          ]
        }
      ]
    },
    {
      "cell_type": "code",
      "source": [
        "start = 0\n",
        "end = len(split1)\n",
        "#use start and end variables to control how much of your DS you want to augment. The output shown after this section \n",
        "#shows how much has been successfully converted and saved in you gdrive. \n",
        "\n",
        "for i in range(start, end):\n",
        "  sent = split1['text'][i]\n",
        "\n",
        "  #on every 25th row, making a save\n",
        "  if(i%25==0):\n",
        "    split1.to_csv('/content/drive/MyDrive/datasets/fake_aug_bt.csv', index=False) #bt = backtranslation\n",
        "    print(i)\n",
        "  \n",
        "  #splitting the sentence according to stop words\n",
        "  split_sents = split_sent_daari(a_sent)\n",
        "  if(split_sents==-1):\n",
        "    print(i, 'th row has error. Has not been split properly')\n",
        "    continue\n",
        "  for i in range(len(split_sents)):\n",
        "    split_sents[i] = bt.get_augmented_sentences(split_sents[i])\n",
        "  \n",
        "  result = ''.join(''.join(l) for l in l_split_sents) #nested join\n",
        "\n",
        "  split1.at[i, 'text'] = result\n",
        "\n",
        "  \n",
        "  \n"
      ],
      "metadata": {
        "colab": {
          "base_uri": "https://localhost:8080/"
        },
        "id": "S1Jp1z-puJWa",
        "outputId": "9fc08948-076d-44c6-c562-4bfb77d2eeb7"
      },
      "execution_count": null,
      "outputs": [
        {
          "output_type": "stream",
          "name": "stdout",
          "text": [
            "0\n"
          ]
        }
      ]
    },
    {
      "cell_type": "code",
      "source": [
        "#done. save all.\n",
        "split1.to_csv('/content/drive/MyDrive/datasets/fake_aug_bt.csv', index=False) #bt = backtranslation"
      ],
      "metadata": {
        "id": "YkI8njiwAdGi"
      },
      "execution_count": null,
      "outputs": []
    }
  ],
  "metadata": {
    "accelerator": "GPU",
    "colab": {
      "provenance": []
    },
    "kernelspec": {
      "display_name": "Python 3",
      "language": "python",
      "name": "python3"
    },
    "language_info": {
      "codemirror_mode": {
        "name": "ipython",
        "version": 3
      },
      "file_extension": ".py",
      "mimetype": "text/x-python",
      "name": "python",
      "nbconvert_exporter": "python",
      "pygments_lexer": "ipython3",
      "version": "3.8.3"
    },
    "gpuClass": "standard"
  },
  "nbformat": 4,
  "nbformat_minor": 0
}